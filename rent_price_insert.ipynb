{
 "cells": [
  {
   "cell_type": "code",
   "execution_count": 1,
   "metadata": {},
   "outputs": [],
   "source": [
    "import pandas as pd\n",
    "import numpy as np\n",
    "from glob import glob\n",
    "# from tqdm import tqdm\n",
    "from tqdm import notebook\n",
    "import mysql.connector\n",
    "# from sqlalchemy import create_engine\n",
    "\n",
    "import re\n",
    "import json"
   ]
  },
  {
   "cell_type": "code",
   "execution_count": 2,
   "metadata": {},
   "outputs": [],
   "source": [
    "# DB설정\n",
    "with open('./path.json') as file:\n",
    "    json_obj = json.load(file)\n",
    "    \n",
    "con = mysql.connector.connect(host = json_obj['DB']['Host'],\n",
    "                              port = json_obj['DB']['Port'],\n",
    "                              database = 'capstone',\n",
    "                              user = json_obj['DB']['User'],\n",
    "                              password = str(json_obj['DB']['Password'])\n",
    ")"
   ]
  },
  {
   "cell_type": "code",
   "execution_count": 3,
   "metadata": {},
   "outputs": [],
   "source": [
    "cursor = con.cursor(dictionary=True)"
   ]
  },
  {
   "cell_type": "code",
   "execution_count": 4,
   "metadata": {},
   "outputs": [],
   "source": [
    "cursor.execute('show Databases;')\n",
    "result = cursor.fetchall()"
   ]
  },
  {
   "cell_type": "code",
   "execution_count": 5,
   "metadata": {},
   "outputs": [
    {
     "data": {
      "text/html": [
       "<div>\n",
       "<style scoped>\n",
       "    .dataframe tbody tr th:only-of-type {\n",
       "        vertical-align: middle;\n",
       "    }\n",
       "\n",
       "    .dataframe tbody tr th {\n",
       "        vertical-align: top;\n",
       "    }\n",
       "\n",
       "    .dataframe thead th {\n",
       "        text-align: right;\n",
       "    }\n",
       "</style>\n",
       "<table border=\"1\" class=\"dataframe\">\n",
       "  <thead>\n",
       "    <tr style=\"text-align: right;\">\n",
       "      <th></th>\n",
       "      <th>Database</th>\n",
       "    </tr>\n",
       "  </thead>\n",
       "  <tbody>\n",
       "    <tr>\n",
       "      <th>0</th>\n",
       "      <td>capstone</td>\n",
       "    </tr>\n",
       "    <tr>\n",
       "      <th>1</th>\n",
       "      <td>information_schema</td>\n",
       "    </tr>\n",
       "    <tr>\n",
       "      <th>2</th>\n",
       "      <td>mysql</td>\n",
       "    </tr>\n",
       "    <tr>\n",
       "      <th>3</th>\n",
       "      <td>performance_schema</td>\n",
       "    </tr>\n",
       "    <tr>\n",
       "      <th>4</th>\n",
       "      <td>sys</td>\n",
       "    </tr>\n",
       "  </tbody>\n",
       "</table>\n",
       "</div>"
      ],
      "text/plain": [
       "             Database\n",
       "0            capstone\n",
       "1  information_schema\n",
       "2               mysql\n",
       "3  performance_schema\n",
       "4                 sys"
      ]
     },
     "execution_count": 5,
     "metadata": {},
     "output_type": "execute_result"
    }
   ],
   "source": [
    "pd.DataFrame(result)"
   ]
  },
  {
   "cell_type": "code",
   "execution_count": 6,
   "metadata": {},
   "outputs": [
    {
     "name": "stderr",
     "output_type": "stream",
     "text": [
      "/var/folders/nv/hhtvgb4j61l7czw1g2vm7pdc0000gn/T/ipykernel_68947/1795912215.py:1: DtypeWarning: Columns (11,18,19) have mixed types. Specify dtype option on import or set low_memory=False.\n",
      "  apt = pd.read_csv(\"./data/실거래_가공/아파트_실거래_10년_가공.csv\",index_col = 0, encoding='cp949')\n",
      "/var/folders/nv/hhtvgb4j61l7czw1g2vm7pdc0000gn/T/ipykernel_68947/1795912215.py:2: DtypeWarning: Columns (11,18,19) have mixed types. Specify dtype option on import or set low_memory=False.\n",
      "  officetel = pd.read_csv(\"./data/실거래_가공/오피스텔_실거래_10년_가공.csv\",index_col = 0, encoding='cp949')\n",
      "/var/folders/nv/hhtvgb4j61l7czw1g2vm7pdc0000gn/T/ipykernel_68947/1795912215.py:3: DtypeWarning: Columns (11,18,19) have mixed types. Specify dtype option on import or set low_memory=False.\n",
      "  yeon = pd.read_csv('./data/실거래_가공/연립다세대_실거래_10년_가공.csv',index_col = 0, encoding='cp949')\n"
     ]
    }
   ],
   "source": [
    "apt = pd.read_csv(\"./data/실거래_가공/아파트_실거래_10년_가공.csv\",index_col = 0, encoding='cp949')\n",
    "officetel = pd.read_csv(\"./data/실거래_가공/오피스텔_실거래_10년_가공.csv\",index_col = 0, encoding='cp949')\n",
    "yeon = pd.read_csv('./data/실거래_가공/연립다세대_실거래_10년_가공.csv',index_col = 0, encoding='cp949')"
   ]
  },
  {
   "cell_type": "code",
   "execution_count": 7,
   "metadata": {},
   "outputs": [
    {
     "name": "stdout",
     "output_type": "stream",
     "text": [
      "2024191\n",
      "447133\n",
      "1073939\n",
      "{'단지명'}\n",
      "{'건물명'}\n"
     ]
    }
   ],
   "source": [
    "print(len(apt))\n",
    "print(len(officetel))\n",
    "print(len(yeon))\n",
    "\n",
    "print(set(apt.columns).difference(set(yeon.columns))) # 단지명\n",
    "print(set(yeon.columns).difference(set(apt.columns))) # 건물명"
   ]
  },
  {
   "cell_type": "code",
   "execution_count": 8,
   "metadata": {},
   "outputs": [],
   "source": [
    "import re\n",
    "import json\n",
    "\n",
    "re1 = re.compile(\"^(수원|고양|용인|창원|성남|청주|전주|천안|안산|안양|포항)\")\n",
    "re2 = re.compile(\"([읍면동]|[0-9]가|시장북로|세종로|남성로)$\")\n"
   ]
  },
  {
   "cell_type": "code",
   "execution_count": 9,
   "metadata": {},
   "outputs": [],
   "source": [
    "def parse(address, how='jibun'):\n",
    "    '''\n",
    "    주소를 받고 how 값에 따라 지번 또는 도로명 주소로 값을 return하는 메소드\n",
    "\n",
    "    address : 주소\n",
    "    how : 지번으로 parsing 또는 도로명으로 parsing ('jibun', 'road')\n",
    "    '''\n",
    "    parts = address.split()\n",
    "    sido = \"\"\n",
    "    sigungu = \"\"\n",
    "    ilbangu = \"\"\n",
    "    eupmyeondong = \"\"\n",
    "    ri_roadname = \"\"\n",
    "    for idx, part in enumerate(parts):\n",
    "        if idx == 0:\n",
    "            sido = part\n",
    "            continue\n",
    "        \n",
    "        if part.endswith(\"시\") or part.endswith(\"군\"):\n",
    "            sigungu = part\n",
    "            continue\n",
    "        \n",
    "        if part.endswith(\"구\"):\n",
    "            if idx == 1:\n",
    "                if len(part) >= 4 and re.search(re1, part):\n",
    "                    sigungu = part[0:2] + \"시\"\n",
    "                    ilbangu = part[2:]\n",
    "                else:\n",
    "                    sigungu = part\n",
    "            else:\n",
    "                ilbangu = part\n",
    "            continue\n",
    "        \n",
    "        if re.search(re2,\n",
    "                        part) and eupmyeondong == '' and how == 'jibun':\n",
    "            eupmyeondong = part\n",
    "            continue\n",
    "            \n",
    "        if part.endswith(\"리\") and how == 'jibun':\n",
    "            ri_roadname = part\n",
    "            continue\n",
    "        \n",
    "        if (part.endswith('로') or part.endswith('길')\n",
    "            ) and how == 'road' and ri_roadname == '':\n",
    "            ri_roadname = part\n",
    "            continue\n",
    "        \n",
    "        if re.search(r\"([가-힣]{2,})(\\([^0-9가-힣a-zA-Z]{1,}\\))\", part):\n",
    "            ri_roadname = part\n",
    "            continue\n",
    "\n",
    "    return sido, sigungu, ilbangu, eupmyeondong, ri_roadname\n"
   ]
  },
  {
   "cell_type": "code",
   "execution_count": 10,
   "metadata": {},
   "outputs": [
    {
     "data": {
      "application/vnd.jupyter.widget-view+json": {
       "model_id": "d56e2f8d047145e6b1c67010c4d6c593",
       "version_major": 2,
       "version_minor": 0
      },
      "text/plain": [
       "  0%|          | 0/2024191 [00:00<?, ?it/s]"
      ]
     },
     "metadata": {},
     "output_type": "display_data"
    },
    {
     "data": {
      "application/vnd.jupyter.widget-view+json": {
       "model_id": "5c36f9433f7f48bb8a50afae9bce0263",
       "version_major": 2,
       "version_minor": 0
      },
      "text/plain": [
       "  0%|          | 0/447133 [00:00<?, ?it/s]"
      ]
     },
     "metadata": {},
     "output_type": "display_data"
    },
    {
     "data": {
      "application/vnd.jupyter.widget-view+json": {
       "model_id": "995eec96ed6c488181ad8ac380f45d4d",
       "version_major": 2,
       "version_minor": 0
      },
      "text/plain": [
       "  0%|          | 0/1073939 [00:00<?, ?it/s]"
      ]
     },
     "metadata": {},
     "output_type": "display_data"
    }
   ],
   "source": [
    "apt[[\"sido\", \"sigungu\", \"ilbangu\", \"eupmyeondong\", \"ri_roadname\"]] = [parse(apt['시군구'].iloc[i]) for i in notebook.tqdm(range(len(apt)))]\n",
    "officetel[[\"sido\", \"sigungu\", \"ilbangu\", \"eupmyeondong\", \"ri_roadname\"]] = [parse(officetel['시군구'].iloc[i]) for i in notebook.tqdm(range(len(officetel)))]\n",
    "yeon[[\"sido\", \"sigungu\", \"ilbangu\", \"eupmyeondong\", \"ri_roadname\"]] = [parse(yeon['시군구'].iloc[i]) for i in notebook.tqdm(range(len(yeon)))]"
   ]
  },
  {
   "cell_type": "code",
   "execution_count": 11,
   "metadata": {},
   "outputs": [
    {
     "data": {
      "text/plain": [
       "('토지고유번호',\n",
       " 'sido',\n",
       " 'sigungu',\n",
       " 'ilbangu',\n",
       " 'eupmyeondong',\n",
       " 'ri_roadname',\n",
       " '본번',\n",
       " '부번',\n",
       " '산',\n",
       " '단지명',\n",
       " '전월세구분',\n",
       " '전용면적(㎡)',\n",
       " '계약년월',\n",
       " '계약일',\n",
       " '보증금(만원)',\n",
       " '월세(만원)',\n",
       " '층',\n",
       " '건축년도',\n",
       " '도로명',\n",
       " '계약기간')"
      ]
     },
     "execution_count": 11,
     "metadata": {},
     "output_type": "execute_result"
    }
   ],
   "source": [
    "apt.columns\n",
    "t = apt.sample(50)"
   ]
  },
  {
   "cell_type": "code",
   "execution_count": 27,
   "metadata": {},
   "outputs": [
    {
     "data": {
      "text/plain": [
       "1071460                -\n",
       "1529505                -\n",
       "750788                 -\n",
       "1473370    202111~202311\n",
       "1230067                -\n",
       "Name: 계약기간, dtype: object"
      ]
     },
     "execution_count": 27,
     "metadata": {},
     "output_type": "execute_result"
    }
   ],
   "source": [
    "apt['계약기간'].sample(5)"
   ]
  },
  {
   "cell_type": "code",
   "execution_count": 12,
   "metadata": {},
   "outputs": [
    {
     "data": {
      "text/plain": [
       "-     1932473\n",
       "사용      91718\n",
       "Name: 갱신요구권 사용, dtype: int64"
      ]
     },
     "execution_count": 12,
     "metadata": {},
     "output_type": "execute_result"
    }
   ],
   "source": [
    "apt['갱신요구권 사용'].value_counts()"
   ]
  },
  {
   "cell_type": "code",
   "execution_count": 13,
   "metadata": {},
   "outputs": [
    {
     "name": "stdout",
     "output_type": "stream",
     "text": [
      "1559139\n",
      "465052\n"
     ]
    }
   ],
   "source": [
    "print(len(apt[apt['계약기간'] == \"-\"]))\n",
    "print(len(apt[apt['계약기간'] != '-']))"
   ]
  },
  {
   "cell_type": "code",
   "execution_count": 14,
   "metadata": {},
   "outputs": [
    {
     "data": {
      "text/plain": [
       "1746216    -\n",
       "741858     -\n",
       "134714     -\n",
       "25715      -\n",
       "518902     -\n",
       "163722     -\n",
       "20315      -\n",
       "192146     -\n",
       "533200     -\n",
       "195830     -\n",
       "Name: 계약기간, dtype: object"
      ]
     },
     "execution_count": 14,
     "metadata": {},
     "output_type": "execute_result"
    }
   ],
   "source": [
    "apt['계약기간'].sample(10)"
   ]
  },
  {
   "cell_type": "code",
   "execution_count": 15,
   "metadata": {},
   "outputs": [
    {
     "data": {
      "text/plain": [
       "-                1559139\n",
       "202202~202402      20849\n",
       "202302~202502      19875\n",
       "202303~202503      17026\n",
       "202308~202508      15983\n",
       "                  ...   \n",
       "202201~202509          1\n",
       "202105~202203          1\n",
       "202107~202810          1\n",
       "202105~202601          1\n",
       "202210~202603          1\n",
       "Name: 계약기간, Length: 1737, dtype: int64"
      ]
     },
     "execution_count": 15,
     "metadata": {},
     "output_type": "execute_result"
    }
   ],
   "source": [
    "apt['계약기간'].value_counts()"
   ]
  },
  {
   "cell_type": "code",
   "execution_count": 16,
   "metadata": {},
   "outputs": [],
   "source": [
    "apt.replace({'계약기간' : {'-' : '0~0'}},inplace=True) # 공란 값 변경"
   ]
  },
  {
   "cell_type": "code",
   "execution_count": 17,
   "metadata": {},
   "outputs": [
    {
     "data": {
      "text/plain": [
       "0~0              1559139\n",
       "202202~202402      20849\n",
       "202302~202502      19875\n",
       "202303~202503      17026\n",
       "202308~202508      15983\n",
       "                  ...   \n",
       "202201~202509          1\n",
       "202105~202203          1\n",
       "202107~202810          1\n",
       "202105~202601          1\n",
       "202210~202603          1\n",
       "Name: 계약기간, Length: 1737, dtype: int64"
      ]
     },
     "execution_count": 17,
     "metadata": {},
     "output_type": "execute_result"
    }
   ],
   "source": [
    "apt['계약기간'].value_counts()"
   ]
  },
  {
   "cell_type": "code",
   "execution_count": 18,
   "metadata": {},
   "outputs": [
    {
     "data": {
      "text/plain": [
       "1336540              0~0\n",
       "2019806              0~0\n",
       "1228402              0~0\n",
       "695075               0~0\n",
       "1893153    202308~202508\n",
       "318384               0~0\n",
       "521879               0~0\n",
       "1365232              0~0\n",
       "1855710    202309~202509\n",
       "982870               0~0\n",
       "1982349              0~0\n",
       "953326               0~0\n",
       "2015197    202304~202504\n",
       "574515               0~0\n",
       "851415               0~0\n",
       "1867774    202302~202502\n",
       "632581               0~0\n",
       "79697                0~0\n",
       "857390               0~0\n",
       "1674876    202204~202404\n",
       "Name: 계약기간, dtype: object"
      ]
     },
     "execution_count": 18,
     "metadata": {},
     "output_type": "execute_result"
    }
   ],
   "source": [
    "apt['계약기간'].sample(20)"
   ]
  },
  {
   "cell_type": "code",
   "execution_count": 20,
   "metadata": {},
   "outputs": [],
   "source": [
    "apt[['계약시작일','계약종료일']] = apt['계약기간'].str.split(\"~\", expand = True)"
   ]
  },
  {
   "cell_type": "code",
   "execution_count": 21,
   "metadata": {},
   "outputs": [
    {
     "data": {
      "text/html": [
       "<div>\n",
       "<style scoped>\n",
       "    .dataframe tbody tr th:only-of-type {\n",
       "        vertical-align: middle;\n",
       "    }\n",
       "\n",
       "    .dataframe tbody tr th {\n",
       "        vertical-align: top;\n",
       "    }\n",
       "\n",
       "    .dataframe thead th {\n",
       "        text-align: right;\n",
       "    }\n",
       "</style>\n",
       "<table border=\"1\" class=\"dataframe\">\n",
       "  <thead>\n",
       "    <tr style=\"text-align: right;\">\n",
       "      <th></th>\n",
       "      <th>계약시작일</th>\n",
       "      <th>계약종료일</th>\n",
       "    </tr>\n",
       "  </thead>\n",
       "  <tbody>\n",
       "    <tr>\n",
       "      <th>447608</th>\n",
       "      <td>0</td>\n",
       "      <td>0</td>\n",
       "    </tr>\n",
       "    <tr>\n",
       "      <th>839365</th>\n",
       "      <td>0</td>\n",
       "      <td>0</td>\n",
       "    </tr>\n",
       "    <tr>\n",
       "      <th>1418988</th>\n",
       "      <td>202108</td>\n",
       "      <td>202308</td>\n",
       "    </tr>\n",
       "    <tr>\n",
       "      <th>1439004</th>\n",
       "      <td>202202</td>\n",
       "      <td>202402</td>\n",
       "    </tr>\n",
       "    <tr>\n",
       "      <th>679237</th>\n",
       "      <td>0</td>\n",
       "      <td>0</td>\n",
       "    </tr>\n",
       "  </tbody>\n",
       "</table>\n",
       "</div>"
      ],
      "text/plain": [
       "          계약시작일   계약종료일\n",
       "447608        0       0\n",
       "839365        0       0\n",
       "1418988  202108  202308\n",
       "1439004  202202  202402\n",
       "679237        0       0"
      ]
     },
     "execution_count": 21,
     "metadata": {},
     "output_type": "execute_result"
    }
   ],
   "source": [
    "apt[['계약시작일','계약종료일']].sample(5)"
   ]
  },
  {
   "cell_type": "code",
   "execution_count": 63,
   "metadata": {},
   "outputs": [
    {
     "data": {
      "text/plain": [
       "1916177    202211~202411\n",
       "1157067                -\n",
       "1020455                -\n",
       "155534                 -\n",
       "1120138                -\n",
       "Name: 계약기간, dtype: object"
      ]
     },
     "execution_count": 63,
     "metadata": {},
     "output_type": "execute_result"
    }
   ],
   "source": [
    "apt.sample(5)['계약기간'] #1916178"
   ]
  },
  {
   "cell_type": "code",
   "execution_count": 22,
   "metadata": {},
   "outputs": [
    {
     "data": {
      "text/html": [
       "<div>\n",
       "<style scoped>\n",
       "    .dataframe tbody tr th:only-of-type {\n",
       "        vertical-align: middle;\n",
       "    }\n",
       "\n",
       "    .dataframe tbody tr th {\n",
       "        vertical-align: top;\n",
       "    }\n",
       "\n",
       "    .dataframe thead th {\n",
       "        text-align: right;\n",
       "    }\n",
       "</style>\n",
       "<table border=\"1\" class=\"dataframe\">\n",
       "  <thead>\n",
       "    <tr style=\"text-align: right;\">\n",
       "      <th></th>\n",
       "      <th>sido</th>\n",
       "      <th>sigungu</th>\n",
       "      <th>ilbangu</th>\n",
       "      <th>eupmyeondong</th>\n",
       "      <th>ri_roadname</th>\n",
       "    </tr>\n",
       "  </thead>\n",
       "  <tbody>\n",
       "    <tr>\n",
       "      <th>0</th>\n",
       "      <td>서울특별시</td>\n",
       "      <td>강남구</td>\n",
       "      <td></td>\n",
       "      <td>개포동</td>\n",
       "      <td></td>\n",
       "    </tr>\n",
       "    <tr>\n",
       "      <th>1</th>\n",
       "      <td>서울특별시</td>\n",
       "      <td>강남구</td>\n",
       "      <td></td>\n",
       "      <td>개포동</td>\n",
       "      <td></td>\n",
       "    </tr>\n",
       "    <tr>\n",
       "      <th>2</th>\n",
       "      <td>서울특별시</td>\n",
       "      <td>강남구</td>\n",
       "      <td></td>\n",
       "      <td>개포동</td>\n",
       "      <td></td>\n",
       "    </tr>\n",
       "    <tr>\n",
       "      <th>3</th>\n",
       "      <td>서울특별시</td>\n",
       "      <td>강남구</td>\n",
       "      <td></td>\n",
       "      <td>개포동</td>\n",
       "      <td></td>\n",
       "    </tr>\n",
       "    <tr>\n",
       "      <th>4</th>\n",
       "      <td>서울특별시</td>\n",
       "      <td>강남구</td>\n",
       "      <td></td>\n",
       "      <td>개포동</td>\n",
       "      <td></td>\n",
       "    </tr>\n",
       "    <tr>\n",
       "      <th>...</th>\n",
       "      <td>...</td>\n",
       "      <td>...</td>\n",
       "      <td>...</td>\n",
       "      <td>...</td>\n",
       "      <td>...</td>\n",
       "    </tr>\n",
       "    <tr>\n",
       "      <th>2024444</th>\n",
       "      <td>서울특별시</td>\n",
       "      <td>중랑구</td>\n",
       "      <td></td>\n",
       "      <td>중화동</td>\n",
       "      <td></td>\n",
       "    </tr>\n",
       "    <tr>\n",
       "      <th>2024445</th>\n",
       "      <td>서울특별시</td>\n",
       "      <td>중랑구</td>\n",
       "      <td></td>\n",
       "      <td>중화동</td>\n",
       "      <td></td>\n",
       "    </tr>\n",
       "    <tr>\n",
       "      <th>2024446</th>\n",
       "      <td>서울특별시</td>\n",
       "      <td>중랑구</td>\n",
       "      <td></td>\n",
       "      <td>중화동</td>\n",
       "      <td></td>\n",
       "    </tr>\n",
       "    <tr>\n",
       "      <th>2024447</th>\n",
       "      <td>서울특별시</td>\n",
       "      <td>중랑구</td>\n",
       "      <td></td>\n",
       "      <td>중화동</td>\n",
       "      <td></td>\n",
       "    </tr>\n",
       "    <tr>\n",
       "      <th>2024448</th>\n",
       "      <td>서울특별시</td>\n",
       "      <td>중랑구</td>\n",
       "      <td></td>\n",
       "      <td>중화동</td>\n",
       "      <td></td>\n",
       "    </tr>\n",
       "  </tbody>\n",
       "</table>\n",
       "<p>2024191 rows × 5 columns</p>\n",
       "</div>"
      ],
      "text/plain": [
       "          sido sigungu ilbangu eupmyeondong ri_roadname\n",
       "0        서울특별시     강남구                  개포동            \n",
       "1        서울특별시     강남구                  개포동            \n",
       "2        서울특별시     강남구                  개포동            \n",
       "3        서울특별시     강남구                  개포동            \n",
       "4        서울특별시     강남구                  개포동            \n",
       "...        ...     ...     ...          ...         ...\n",
       "2024444  서울특별시     중랑구                  중화동            \n",
       "2024445  서울특별시     중랑구                  중화동            \n",
       "2024446  서울특별시     중랑구                  중화동            \n",
       "2024447  서울특별시     중랑구                  중화동            \n",
       "2024448  서울특별시     중랑구                  중화동            \n",
       "\n",
       "[2024191 rows x 5 columns]"
      ]
     },
     "execution_count": 22,
     "metadata": {},
     "output_type": "execute_result"
    }
   ],
   "source": [
    "apt[[\"sido\", \"sigungu\", \"ilbangu\", \"eupmyeondong\", \"ri_roadname\"]]"
   ]
  },
  {
   "cell_type": "code",
   "execution_count": 23,
   "metadata": {},
   "outputs": [
    {
     "data": {
      "text/plain": [
       "상계동      72568\n",
       "신정동      50760\n",
       "잠실동      44482\n",
       "목동       37359\n",
       "서초동      36957\n",
       "         ...  \n",
       "보문동7가        6\n",
       "광희동1가        6\n",
       "남산동2가        5\n",
       "주성동          3\n",
       "주교동          3\n",
       "Name: eupmyeondong, Length: 342, dtype: int64"
      ]
     },
     "execution_count": 23,
     "metadata": {},
     "output_type": "execute_result"
    }
   ],
   "source": [
    "apt['eupmyeondong'].value_counts()\n",
    "# apt.sample(5)"
   ]
  },
  {
   "cell_type": "code",
   "execution_count": 18,
   "metadata": {},
   "outputs": [
    {
     "data": {
      "text/plain": [
       "Index(['시군구', '번지', '본번', '부번', '단지명', '전월세구분', '전용면적(㎡)', '계약년월', '계약일',\n",
       "       '보증금(만원)', '월세(만원)', '층', '건축년도', '도로명', '계약기간', '계약구분', '갱신요구권 사용',\n",
       "       '종전계약 보증금 (만원)', '종전계약 월세 (만원)', '법정동코드', '산', '토지고유번호', 'sido',\n",
       "       'sigungu', 'ilbangu', 'eupmyeondong', 'ri_roadname', '계약시작일', '계약종료일'],\n",
       "      dtype='object')"
      ]
     },
     "execution_count": 18,
     "metadata": {},
     "output_type": "execute_result"
    }
   ],
   "source": [
    "apt.columns # ri_roadname 리"
   ]
  },
  {
   "cell_type": "code",
   "execution_count": 24,
   "metadata": {},
   "outputs": [
    {
     "data": {
      "text/plain": [
       "-     1932473\n",
       "사용      91718\n",
       "Name: 갱신요구권 사용, dtype: int64"
      ]
     },
     "execution_count": 24,
     "metadata": {},
     "output_type": "execute_result"
    }
   ],
   "source": [
    "apt['갱신요구권 사용'].value_counts()"
   ]
  },
  {
   "cell_type": "code",
   "execution_count": 72,
   "metadata": {},
   "outputs": [
    {
     "data": {
      "text/plain": [
       "7     483832\n",
       "9     455453\n",
       "8     391486\n",
       "10    313174\n",
       "6     200060\n",
       "11    107246\n",
       "12     31896\n",
       "1      19293\n",
       "13     10694\n",
       "5       7968\n",
       "14      1273\n",
       "4        778\n",
       "15       540\n",
       "3        467\n",
       "2         30\n",
       "16         1\n",
       "Name: 도로명, dtype: int64"
      ]
     },
     "execution_count": 72,
     "metadata": {},
     "output_type": "execute_result"
    }
   ],
   "source": [
    "apt['도로명'].astype(str).str.len().value_counts()"
   ]
  },
  {
   "cell_type": "code",
   "execution_count": 66,
   "metadata": {},
   "outputs": [
    {
     "data": {
      "text/plain": [
       "0          2.0\n",
       "1          5.0\n",
       "2          3.0\n",
       "3          4.0\n",
       "4          3.0\n",
       "          ... \n",
       "1073934    3.0\n",
       "1073935    4.0\n",
       "1073936    3.0\n",
       "1073937    2.0\n",
       "1073938    2.0\n",
       "Name: 층, Length: 1037487, dtype: float64"
      ]
     },
     "execution_count": 66,
     "metadata": {},
     "output_type": "execute_result"
    }
   ],
   "source": [
    "yeon[yeon['층'].astype(str).str.len() == 3]['층']\n",
    "\n",
    "# yeon['층'].astype(int)"
   ]
  },
  {
   "cell_type": "code",
   "execution_count": 58,
   "metadata": {},
   "outputs": [
    {
     "data": {
      "text/plain": [
       "3    1037487\n",
       "4      36443\n",
       "5          9\n",
       "Name: 층, dtype: int64"
      ]
     },
     "execution_count": 58,
     "metadata": {},
     "output_type": "execute_result"
    }
   ],
   "source": [
    "yeon['층'].astype(str).str.len().value_counts() # 읍면동 최대 6자리 시군구 최대 4자리 시도 5자리 "
   ]
  },
  {
   "cell_type": "code",
   "execution_count": 53,
   "metadata": {},
   "outputs": [
    {
     "data": {
      "text/plain": [
       "-     1543035\n",
       "신규     310836\n",
       "갱신     170320\n",
       "Name: 계약구분, dtype: int64"
      ]
     },
     "execution_count": 53,
     "metadata": {},
     "output_type": "execute_result"
    }
   ],
   "source": [
    "apt['계약구분'].value_counts()"
   ]
  },
  {
   "cell_type": "code",
   "execution_count": 49,
   "metadata": {},
   "outputs": [
    {
     "data": {
      "text/plain": [
       "5    1364694\n",
       "6     342260\n",
       "4     196935\n",
       "7     108121\n",
       "8      12162\n",
       "3         19\n",
       "Name: 전용면적(㎡), dtype: int64"
      ]
     },
     "execution_count": 49,
     "metadata": {},
     "output_type": "execute_result"
    }
   ],
   "source": [
    "apt['전용면적(㎡)'].astype(str).str.len().value_counts() "
   ]
  },
  {
   "cell_type": "code",
   "execution_count": 41,
   "metadata": {},
   "outputs": [],
   "source": [
    "cursor.execute(\"\"\"\n",
    "               SELECT TABLE_SCHEMA,TABLE_NAME,COLUMN_NAME,COLUMN_COMMENT\n",
    "               FROM INFORMATION_SCHEMA.COLUMNS\n",
    "               WHERE TABLE_SCHEMA = 'capstone'\n",
    "               AND TABLE_NAME   = 'rent_price';\n",
    "               \"\"\")"
   ]
  },
  {
   "cell_type": "code",
   "execution_count": 42,
   "metadata": {},
   "outputs": [],
   "source": [
    "result = pd.DataFrame(cursor.fetchall())"
   ]
  },
  {
   "cell_type": "code",
   "execution_count": 88,
   "metadata": {},
   "outputs": [],
   "source": [
    "db_column = list(result.COLUMN_NAME.values)"
   ]
  },
  {
   "cell_type": "code",
   "execution_count": 79,
   "metadata": {},
   "outputs": [
    {
     "name": "stdout",
     "output_type": "stream",
     "text": [
      "['토지의 고유한 위치를 지정하는 토지고유번호 \\n시 + 시군구(일반구) + 읍면동 + 리 + 산 여부 + 본번 + 부번 (19자리)'\n",
      " '시' '시군구' '일반구' '읍면동' '리' '본번' '부번' '산 여부' '전월세구분' '전용면적(㎡)' '계약일자'\n",
      " '보증금\\n' '월세' '종전계약 보증금' '종전계약 월세' '건물 명' '도로명' '층' '건축년도' '계약 시작일\\n'\n",
      " '계약 종료일' '계약 구분( 0 : 기존, 1 : 신규, 2 : 갱신)' '갱신요구권 ( 0 : 미 사용, 1 : 사용)']\n"
     ]
    }
   ],
   "source": [
    "print(result.COLUMN_COMMENT.values)\n",
    "# 토지고유번호,sido,sigungu,ilbangu,eupmyeondong,ri,본번,부번,산여부,전월세구분,전용면적,계약일자,보증금,월세,종전계약 보증금,종전계약 월세, 건물명,도로명,층,건축년도, 계약 시작일, 계약 종료일, 계약 구분\n",
    "insert_df = apt[[\"토지고유번호\",\"sido\",\"sigungu\",\"ilbangu\",\"eupmyeondong\",\"ri_roadname\",\"본번\",\"부번\",'산',\"전월세구분\",\"전용면적(㎡)\",\"계약년월\",\"계약일\",\"보증금(만원)\",\"월세(만원)\",\"종전계약 보증금 (만원)\",'종전계약 월세 (만원)',\"단지명\",\"도로명\",\"층\",\"건축년도\",\"계약시작일\",'계약종료일','계약구분']]"
   ]
  },
  {
   "cell_type": "markdown",
   "metadata": {},
   "source": [
    "['address',\n",
    " 'sido',\n",
    " 'sigungu',\n",
    " 'ilbangu',\n",
    " 'eupmyeondong',\n",
    " 'ri',\n",
    " 'main_num',\n",
    " 'sub_num',\n",
    " 'is_mountain',\n",
    " 'rent_type',\n",
    " 'exclusive_area',\n",
    " 'contract_date',\n",
    " 'deposit',\n",
    " 'rent',\n",
    " 'previous_deposit',\n",
    " 'previous_rent',\n",
    " 'building_name',\n",
    " 'road_name',\n",
    " 'floor',\n",
    " 'construction_year',\n",
    " 'contract_start',\n",
    " 'contract_end',\n",
    " 'contract_type',\n",
    " 'renewal_right']\n",
    "\n",
    " Index(['토지고유번호', 'sido', 'sigungu', 'ilbangu', 'eupmyeondong', 'ri_roadname',\n",
    "       '본번', '부번', '산', '전월세구분', '전용면적(㎡)', '계약년월', '계약일', '보증금(만원)', '월세(만원)',\n",
    "       '종전계약 보증금 (만원)', '종전계약 월세 (만원)', '단지명', '도로명', '층', '건축년도', '계약시작일',\n",
    "       '계약종료일', '계약구분'],\n",
    "      dtype='object')"
   ]
  },
  {
   "cell_type": "code",
   "execution_count": 97,
   "metadata": {},
   "outputs": [
    {
     "data": {
      "application/vnd.jupyter.widget-view+json": {
       "model_id": "77f4fee444bf4d1d9610ed756af625b1",
       "version_major": 2,
       "version_minor": 0
      },
      "text/plain": [
       "  0%|          | 0/2024191 [00:00<?, ?it/s]"
      ]
     },
     "metadata": {},
     "output_type": "display_data"
    },
    {
     "name": "stderr",
     "output_type": "stream",
     "text": [
      "/var/folders/nv/hhtvgb4j61l7czw1g2vm7pdc0000gn/T/ipykernel_68947/70749960.py:1: SettingWithCopyWarning: \n",
      "A value is trying to be set on a copy of a slice from a DataFrame.\n",
      "Try using .loc[row_indexer,col_indexer] = value instead\n",
      "\n",
      "See the caveats in the documentation: https://pandas.pydata.org/pandas-docs/stable/user_guide/indexing.html#returning-a-view-versus-a-copy\n",
      "  insert_df['계약일자'] = [str(insert_df['계약년월'].iloc[i]).zfill(2) + str(insert_df['계약일'].iloc[i]).zfill(2) for i in notebook.tqdm(range(len(insert_df)))]\n"
     ]
    }
   ],
   "source": [
    "insert_df['계약일자'] = [str(insert_df['계약년월'].iloc[i]).zfill(2) + str(insert_df['계약일'].iloc[i]).zfill(2) for i in notebook.tqdm(range(len(insert_df)))]"
   ]
  },
  {
   "cell_type": "code",
   "execution_count": 98,
   "metadata": {},
   "outputs": [
    {
     "data": {
      "text/plain": [
       "20210809    2065\n",
       "20220212    1956\n",
       "20230211    1775\n",
       "20220115    1744\n",
       "20220219    1719\n",
       "            ... \n",
       "20170128       9\n",
       "20190204       7\n",
       "20171004       6\n",
       "20150927       6\n",
       "20190913       5\n",
       "Name: 계약일자, Length: 3926, dtype: int64"
      ]
     },
     "execution_count": 98,
     "metadata": {},
     "output_type": "execute_result"
    }
   ],
   "source": [
    "insert_df['계약일자'].value_counts()"
   ]
  },
  {
   "cell_type": "code",
   "execution_count": 94,
   "metadata": {},
   "outputs": [
    {
     "data": {
      "text/plain": [
       "1    2022471\n",
       "2       1720\n",
       "Name: 산, dtype: int64"
      ]
     },
     "execution_count": 94,
     "metadata": {},
     "output_type": "execute_result"
    }
   ],
   "source": [
    "insert_df['산'].value_counts()"
   ]
  },
  {
   "cell_type": "code",
   "execution_count": 90,
   "metadata": {},
   "outputs": [
    {
     "data": {
      "text/plain": [
       "['address',\n",
       " 'sido',\n",
       " 'sigungu',\n",
       " 'ilbangu',\n",
       " 'eupmyeondong',\n",
       " 'ri',\n",
       " 'main_num',\n",
       " 'sub_num',\n",
       " 'is_mountain',\n",
       " 'rent_type',\n",
       " 'exclusive_area',\n",
       " 'contract_date',\n",
       " 'deposit',\n",
       " 'rent',\n",
       " 'previous_deposit',\n",
       " 'previous_rent',\n",
       " 'building_name',\n",
       " 'road_name',\n",
       " 'floor',\n",
       " 'construction_year',\n",
       " 'contract_start',\n",
       " 'contract_end',\n",
       " 'contract_type',\n",
       " 'renewal_right']"
      ]
     },
     "execution_count": 90,
     "metadata": {},
     "output_type": "execute_result"
    }
   ],
   "source": [
    "db_column"
   ]
  },
  {
   "cell_type": "code",
   "execution_count": 83,
   "metadata": {},
   "outputs": [
    {
     "name": "stderr",
     "output_type": "stream",
     "text": [
      "/var/folders/nv/hhtvgb4j61l7czw1g2vm7pdc0000gn/T/ipykernel_68947/3750755126.py:1: SettingWithCopyWarning: \n",
      "A value is trying to be set on a copy of a slice from a DataFrame.\n",
      "Try using .loc[row_indexer,col_indexer] = value instead\n",
      "\n",
      "See the caveats in the documentation: https://pandas.pydata.org/pandas-docs/stable/user_guide/indexing.html#returning-a-view-versus-a-copy\n",
      "  insert_df['본번'] = [str(int(round(float(i),0))).zfill(4) for i in insert_df['본번']]\n",
      "/var/folders/nv/hhtvgb4j61l7czw1g2vm7pdc0000gn/T/ipykernel_68947/3750755126.py:2: SettingWithCopyWarning: \n",
      "A value is trying to be set on a copy of a slice from a DataFrame.\n",
      "Try using .loc[row_indexer,col_indexer] = value instead\n",
      "\n",
      "See the caveats in the documentation: https://pandas.pydata.org/pandas-docs/stable/user_guide/indexing.html#returning-a-view-versus-a-copy\n",
      "  insert_df['부번'] = [str(int(round(float(i),0))).zfill(4) for i in insert_df['부번']]\n"
     ]
    }
   ],
   "source": [
    "insert_df['본번'] = [str(int(round(float(i),0))).zfill(4) for i in insert_df['본번']]\n",
    "insert_df['부번'] = [str(int(round(float(i),0))).zfill(4) for i in insert_df['부번']]"
   ]
  },
  {
   "cell_type": "code",
   "execution_count": null,
   "metadata": {},
   "outputs": [],
   "source": [
    "import pandas as pd\n",
    "\n",
    "\n",
    "def mass_inserter(df, data_type, jdbc):\n",
    "    '''\n",
    "    매칭 완료한 데이터를 넣는 함수\n",
    "\n",
    "    df : 매칭 완료한 데이터\n",
    "    data_type : 데이터 종류 (예 : '아파트-전세', '아파트-매매')\n",
    "    jdbc : JDBC 객체\n",
    "    '''\n",
    "    insert_query = \"\"\"\n",
    "        INSERT INTO real_rent_price(\n",
    "        address_id,\n",
    "        sido,\n",
    "        sigungu,\n",
    "        ilbangu,\n",
    "        eupmyeondong,\n",
    "\n",
    "        ri,\n",
    "        main_num,\n",
    "        sub_num,\n",
    "        is_mountain,\n",
    "        rent_type,\n",
    "        \n",
    "        exclusive_area,\n",
    "        contract_date,\n",
    "        deposit,\n",
    "        rent,        \n",
    "        previous_depost,\n",
    "\n",
    "        previous_rent,\n",
    "        building_name,\n",
    "        road_name,\n",
    "        floor,\n",
    "        construction_year,\n",
    "        \n",
    "        contract_start,\n",
    "        contract_end,\n",
    "        contract_type,\n",
    "        renewal_right\n",
    "        \n",
    "        ) VALUES(\n",
    "        %s, %s, %s, %s, %s, \n",
    "        %s, %s, %s, %s, %s, \n",
    "        %s, %s, %s, %s, %s, \n",
    "        %s, %s, %s, %s, %s, \n",
    "        %s, %s, %s, %s, %s)\n",
    "    \"\"\"\n",
    "\n",
    "    def row_inserter(row, jdbc, data_type, data_len):\n",
    "        '''\n",
    "        각 row 별로 insert 작업 수행\n",
    "\n",
    "        row : DataFrame의 row\n",
    "        jdbc : JDBC 객체\n",
    "        data_type : 데이터 종류 (예 : '아파트-전세', '아파트-매매')\n",
    "        data_len : 총 데이터 수\n",
    "        '''\n",
    "        insert_tuple = (\n",
    "            None if pd.isna(row['토지고유번호']) else row['토지고유번호'],  # address_id\n",
    "            row['sido'], # 시도\n",
    "            row['sigungu'], # 시군구\n",
    "            row['ilbangu'], # 일반구\n",
    "            row['eupmyeondong'], # 읍면동\n",
    "            row['ri_roadname'], # 리\n",
    "            None if pd.isna(row['본번']) else str(row['본번']),  # main_num\n",
    "            None if pd.isna(row['부번']) else str(row['부번']),  # sub_num\n",
    "            row['산'], # 산여부(1:일반, 2:산)\n",
    "            row['전월세구분'], # rent_type\n",
    "            row['전용면적(㎡)'], # exclusive_area\n",
    "            row['계약일자'], # contract_date = 계약년월 + 계약일\n",
    "            row['deposit'], # deposit 보증금(만원)\n",
    "            row['rent'], # 월세(만원)\n",
    "            row['previous_deposit'], # 종전계약 보증금(만원)\n",
    "            row['previous_rent'], # 종전계약 월세(만원)\n",
    "            '아파트', # property_type(주택 유형) ### 여기까지 진행\n",
    "            row['도로명'],  # road_name\n",
    "            None if pd.isna(row['단지명']) else row['단지명'],  # apart_name\n",
    "            '아파트',  # property_type(주택유형)\n",
    "            row['지목'],  # 지목\n",
    "            None if pd.isna(row['층']) else str(int(row['층'])),  # floor_number(층 수)\n",
    "            row['전용면적(㎡)'],  # exclusive_area(전용면적)\n",
    "            str(row['계약날짜']),  # contract_date(계약날짜)\n",
    "            row['전월세구분'],  # rent_type(전월세구분)\n",
    "            int(str(row['보증금(만원)']).replace(',', '')),  # deposit(보증금)\n",
    "            int(str(row['월세(만원)']).replace(',', '')),  # monthly_rent(월세)\n",
    "            None if pd.isna(row['건축년도']) else str(int(row['건축년도'])),\n",
    "            None if pd.isna(row['위도']) else row['위도'],  # latitude(위도)\n",
    "            None if pd.isna(row['경도']) else row['경도'],  # longitude(경도)\n",
    "            int(row['신뢰도']),  # confidence(신뢰도)\n",
    "            None,  # candidate(후보 고유번호들)\n",
    "            None if row['계약구분'] == '-' else str(row['계약구분']), # 계약구분(신규,갱신,Null)\n",
    "            row['rflag'], # 종전계약여부 확인 flag\n",
    "            row['hash'], # 해시 값\n",
    "            None if pd.isna(row['종전계약 보증금 (만원)']) else int(row['종전계약 보증금 (만원)']), # 종전 계약시 이전 보증금\n",
    "            None if pd.isna(row['종전계약 월세 (만원)']) else int(row['종전계약 월세 (만원)']), # 종전 계약시 이전 월세\n",
    "            None if pd.isna(row['계약시작일']) else int(row['계약시작일']),\n",
    "            None if pd.isna(row['계약종료일']) else int(row['계약종료일'])\n",
    "            )\n",
    "\n",
    "        jdbc.insert_row(insert_query, insert_tuple)\n",
    "        try: # 하루의 변동사항이 10건 이하인 경우  ZeroDivisionError: integer division or modulo by zero 발생, 임시 우회\n",
    "            index = row.name + 1\n",
    "            if index % (data_len // 10) == 0:\n",
    "                print(f'{data_type} : {index/data_len*100:.2f}% a_id INSERT 완료')\n",
    "        except:\n",
    "            pass\n",
    "\n",
    "    print(f'{data_type} 데이터 넣기 시작')\n",
    "    data_len = len(df)\n",
    "    df.apply(apply_insert,\n",
    "             jdbc=jdbc,\n",
    "             data_type=data_type,\n",
    "             data_len=data_len,\n",
    "             axis=1)\n",
    "    jdbc.commit()\n",
    "    print(f'{data_type} 데이터 넣기 완료')\n"
   ]
  },
  {
   "cell_type": "code",
   "execution_count": null,
   "metadata": {},
   "outputs": [],
   "source": [
    "# mass_inserter 안에 row_inserter를 넣으면 됌\n",
    "# 이중 정의 함수의 문제 상황은 어떤 게 발생할 수 있나??"
   ]
  },
  {
   "cell_type": "code",
   "execution_count": null,
   "metadata": {},
   "outputs": [],
   "source": []
  },
  {
   "cell_type": "code",
   "execution_count": null,
   "metadata": {},
   "outputs": [],
   "source": [
    "import re\n",
    "import json\n",
    "\n",
    "\n",
    "class AddressParser:\n",
    "    '''\n",
    "    주소를 각 명칭으로 나누거나\n",
    "    토지고유번호를 매칭해주는 class\n",
    "    '''\n",
    "    __jibun_search_query = '''\n",
    "        SELECT {}\n",
    "        FROM addresses \n",
    "        WHERE sido = %s \n",
    "        AND sigungu = %s \n",
    "        AND ilbangu = %s \n",
    "        AND eupmyeondong = %s \n",
    "        AND ri = %s \n",
    "        AND is_mountain = %s \n",
    "        AND num1 = %s\n",
    "        AND {}\n",
    "    '''\n",
    "    __road_search_query = '''\n",
    "        SELECT {}\n",
    "        FROM addresses \n",
    "        WHERE sido = %s \n",
    "        AND sigungu = %s \n",
    "        AND ilbangu = %s \n",
    "        AND road_name = %s\n",
    "        AND road_num1 = %s\n",
    "        AND road_num2 = %s\n",
    "    '''\n",
    "    __search_by_aid = '''\n",
    "        SELECT {}\n",
    "        FROM addresses\n",
    "        WHERE id = %s\n",
    "    '''\n",
    "\n",
    "    def __init__(self):\n",
    "        '''\n",
    "        주소를 불러와\n",
    "        sido, sigungu, ilbangu, eupmyeondong, ri_roadname으로 나누는 작업을 해주는 class\n",
    "        '''\n",
    "        self.re1 = re.compile(\"^(수원|고양|용인|창원|성남|청주|전주|천안|안산|안양|포항)\")\n",
    "        self.re2 = re.compile(\"([읍면동]|[0-9]가|시장북로|세종로|남성로)$\")\n",
    "\n",
    "    def parse(self, address, how='jibun'):\n",
    "        '''\n",
    "        주소를 받고 how 값에 따라 지번 또는 도로명 주소로 값을 return하는 메소드\n",
    "\n",
    "        address : 주소\n",
    "        how : 지번으로 parsing 또는 도로명으로 parsing ('jibun', 'road')\n",
    "        '''\n",
    "        parts = address.split()\n",
    "        sido = \"\"\n",
    "        sigungu = \"\"\n",
    "        ilbangu = \"\"\n",
    "        eupmyeondong = \"\"\n",
    "        ri_roadname = \"\"\n",
    "        for idx, part in enumerate(parts):\n",
    "            if idx == 0:\n",
    "                sido = part\n",
    "                continue\n",
    "            \n",
    "            if part.endswith(\"시\") or part.endswith(\"군\"):\n",
    "                sigungu = part\n",
    "                continue\n",
    "            \n",
    "            if part.endswith(\"구\"):\n",
    "                if idx == 1:\n",
    "                    if len(part) >= 4 and re.search(self.re1, part):\n",
    "                        sigungu = part[0:2] + \"시\"\n",
    "                        ilbangu = part[2:]\n",
    "                    else:\n",
    "                        sigungu = part\n",
    "                else:\n",
    "                    ilbangu = part\n",
    "                continue\n",
    "            \n",
    "            if re.search(self.re2,\n",
    "                         part) and eupmyeondong == '' and how == 'jibun':\n",
    "                eupmyeondong = part\n",
    "                continue\n",
    "                \n",
    "            if part.endswith(\"리\") and how == 'jibun':\n",
    "                ri_roadname = part\n",
    "                continue\n",
    "            \n",
    "            if (part.endswith('로') or part.endswith('길')\n",
    "                ) and how == 'road' and ri_roadname == '':\n",
    "                ri_roadname = part\n",
    "                continue\n",
    "            \n",
    "            if re.search(r\"([가-힣]{2,})(\\([^0-9가-힣a-zA-Z]{1,}\\))\", part):\n",
    "                ri_roadname = part\n",
    "                continue\n",
    "\n",
    "        return sido, sigungu, ilbangu, eupmyeondong, ri_roadname\n",
    "\n",
    "    def get_address_id(self,\n",
    "                       addr,\n",
    "                       http,\n",
    "                       jdbc,\n",
    "                       silent=False,\n",
    "                       additional_columns=None):\n",
    "        '''\n",
    "        지번 또는 도로명 주소로 구성 되어있는 주소를 parsing하여 토지 고유번호 매칭.\n",
    "        깔끔하게 구성한 주소여야 함.\n",
    "        대량의 주소를 변경하는 경우로 예상하여 http나 jdbc 객체를 받게끔 정의\n",
    "\n",
    "        addr : 주소\n",
    "        http : urllib3 PoolManager 객체\n",
    "        jdbc : JDBC 객체\n",
    "        silent : 못 찾았을 때, 출력값 보여주기 여부\n",
    "        additional_columns : addresses에서 id 값 뿐만 아니라 더 검색할 columns 값들\n",
    "        '''\n",
    "        search_columns = 'id, '\n",
    "        if additional_columns is not None:\n",
    "            for column in additional_columns:\n",
    "                search_columns += column + ', '\n",
    "        search_columns = search_columns[:-2]\n",
    "\n",
    "        def search_road(addr, splitted_addr):\n",
    "            '''\n",
    "            주소 형태가 도로명 주소인 경우라고 판단 할 때, 매칭하는 코드\n",
    "            먼저 postcodify에서 검색 후 없으면 addresses에서 검색\n",
    "\n",
    "            addr : 주소\n",
    "            splitted_addr : 분리된 주소\n",
    "            '''\n",
    "            number = addr.split()[-1]\n",
    "            road_name = splitted_addr[-1] + ' ' + number\n",
    "\n",
    "            number = number.split('-')\n",
    "            num1 = number[0]\n",
    "            num2 = number[1] if len(number) == 2 else 0\n",
    "\n",
    "            r = http.request('GET',\n",
    "                             'http://192.168.20.2/postcodify/lib/search.php',\n",
    "                             fields={'q': addr})\n",
    "\n",
    "            if r.status == 200:\n",
    "                results = json.loads(r.data.decode('utf8'))['results']\n",
    "                filtered = list(\n",
    "                    filter(lambda x: x['ko_doro'] == road_name, results))\n",
    "\n",
    "                if len(filtered) == 1:\n",
    "                    a_id = filtered[0]['address_id']\n",
    "                    res = jdbc.fetch_data(\n",
    "                        AddressParser.__search_by_aid.format(search_columns),\n",
    "                        (a_id, ),\n",
    "                        ret_type='raw')\n",
    "                    if len(res) == 1:\n",
    "                        if additional_columns is None:\n",
    "                            return res[0][0]\n",
    "                        return res[0]\n",
    "\n",
    "                res = jdbc.fetch_data(\n",
    "                    AddressParser.__road_search_query.format(search_columns),\n",
    "                    splitted_addr[:3] + (splitted_addr[-1], num1, num2),\n",
    "                    ret_type='raw')\n",
    "                if len(res) == 1:\n",
    "                    if additional_columns is None:\n",
    "                        return res[0][0]\n",
    "                    return res[0]\n",
    "\n",
    "                return None\n",
    "            raise Exception('도로명 주소 서버 통신 실패')\n",
    "\n",
    "        def search_jibun(addr, splitted_addr):\n",
    "            '''\n",
    "            주소 형태가 지번 주소인 경우라고 판단 할 때, 매칭하는 코드\n",
    "\n",
    "            addr : 주소\n",
    "            splitted_addr : 분리된 주소\n",
    "            '''\n",
    "            number = addr.split()[-1]\n",
    "            if number[0] == '산':\n",
    "                number = number[1:]\n",
    "                is_mountain = 2\n",
    "            else:\n",
    "                is_mountain = 1\n",
    "            number = number.split('-')\n",
    "            num1 = number[0]\n",
    "            num2_case = f'num2 = {number[1]}' if len(\n",
    "                number) == 2 and number[1].isdigit() else '(num2 IS NULL or num2 = 0)'\n",
    "\n",
    "            res = jdbc.fetch_data(AddressParser.__jibun_search_query.format(\n",
    "                search_columns, num2_case),\n",
    "                                  splitted_addr + (is_mountain, num1),\n",
    "                                  ret_type='raw')\n",
    "            if len(res) == 1:\n",
    "                if additional_columns is None:\n",
    "                    return res[0][0]\n",
    "                return res[0]\n",
    "            return None\n",
    "\n",
    "        match = re.compile(r'\\s+산{0,1}\\d{1,}-?\\d{0,}').search(addr)\n",
    "\n",
    "        if match is None:\n",
    "            return None\n",
    "\n",
    "        used_addr = addr[:match.end()]\n",
    "\n",
    "        road_splited_addr = self.parse(used_addr, how='road')\n",
    "        jibun_splited_addr = self.parse(used_addr, how='jibun')\n",
    "        addr_type = 'road'\n",
    "        if road_splited_addr[-1] == '':\n",
    "            addr_type = 'jibun'\n",
    "\n",
    "        if addr_type == 'road':\n",
    "            result = search_road(used_addr, road_splited_addr)\n",
    "            if result is None:\n",
    "                result = search_jibun(used_addr, jibun_splited_addr)\n",
    "        else:\n",
    "            result = search_jibun(used_addr, jibun_splited_addr)\n",
    "            if result is None:\n",
    "                result = search_road(used_addr, road_splited_addr)\n",
    "        if result is None and not silent:\n",
    "            print(f'\"{used_addr}\" 주소 하나로 결정 불가')\n",
    "        return result\n"
   ]
  }
 ],
 "metadata": {
  "kernelspec": {
   "display_name": "base",
   "language": "python",
   "name": "python3"
  },
  "language_info": {
   "codemirror_mode": {
    "name": "ipython",
    "version": 3
   },
   "file_extension": ".py",
   "mimetype": "text/x-python",
   "name": "python",
   "nbconvert_exporter": "python",
   "pygments_lexer": "ipython3",
   "version": "3.9.10"
  }
 },
 "nbformat": 4,
 "nbformat_minor": 2
}
