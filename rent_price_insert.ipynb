{
 "cells": [
  {
   "cell_type": "code",
   "execution_count": null,
   "metadata": {},
   "outputs": [],
   "source": [
    "import pandas as pd\n",
    "import numpy as np\n",
    "from glob import glob\n",
    "# from tqdm import tqdm\n",
    "from tqdm import notebook\n",
    "import mysql.connector\n",
    "# from sqlalchemy import create_engine\n",
    "\n",
    "import re\n",
    "import json"
   ]
  },
  {
   "cell_type": "code",
   "execution_count": null,
   "metadata": {},
   "outputs": [],
   "source": [
    "# DB설정\n",
    "with open('./path.json') as file:\n",
    "    json_obj = json.load(file)\n",
    "    \n",
    "con = mysql.connector.connect(host = json_obj['DB']['Host'],\n",
    "                              port = json_obj['DB']['Port'],\n",
    "                              database = 'capstone',\n",
    "                              user = json_obj['DB']['User'],\n",
    "                              password = str(json_obj['DB']['Password'])\n",
    ")"
   ]
  },
  {
   "cell_type": "code",
   "execution_count": null,
   "metadata": {},
   "outputs": [],
   "source": [
    "cursor = con.cursor(dictionary=True)"
   ]
  },
  {
   "cell_type": "code",
   "execution_count": null,
   "metadata": {},
   "outputs": [],
   "source": [
    "cursor.execute('show Databases;')\n",
    "result = cursor.fetchall()\n",
    "pd.DataFrame(result)"
   ]
  },
  {
   "cell_type": "code",
   "execution_count": null,
   "metadata": {},
   "outputs": [],
   "source": [
    "apt = pd.read_csv(\"./data/실거래_가공/아파트_실거래_10년_가공.csv\",index_col = 0, encoding='cp949')\n",
    "officetel = pd.read_csv(\"./data/실거래_가공/오피스텔_실거래_10년_가공.csv\",index_col = 0, encoding='cp949')\n",
    "yeon = pd.read_csv('./data/실거래_가공/연립다세대_실거래_10년_가공.csv',index_col = 0, encoding='cp949')"
   ]
  },
  {
   "cell_type": "code",
   "execution_count": null,
   "metadata": {},
   "outputs": [],
   "source": [
    "print(len(apt))\n",
    "print(len(officetel))\n",
    "print(len(yeon))\n",
    "\n",
    "print(set(apt.columns).difference(set(yeon.columns))) # 단지명\n",
    "print(set(yeon.columns).difference(set(apt.columns))) # 건물명"
   ]
  },
  {
   "cell_type": "code",
   "execution_count": null,
   "metadata": {},
   "outputs": [],
   "source": [
    "import re\n",
    "import json\n",
    "\n",
    "re1 = re.compile(\"^(수원|고양|용인|창원|성남|청주|전주|천안|안산|안양|포항)\")\n",
    "re2 = re.compile(\"([읍면동]|[0-9]가|시장북로|세종로|남성로)$\")\n"
   ]
  },
  {
   "cell_type": "code",
   "execution_count": null,
   "metadata": {},
   "outputs": [],
   "source": [
    "def parse(address, how='jibun'):\n",
    "    '''\n",
    "    주소를 받고 how 값에 따라 지번 또는 도로명 주소로 값을 return하는 메소드\n",
    "\n",
    "    address : 주소\n",
    "    how : 지번으로 parsing 또는 도로명으로 parsing ('jibun', 'road')\n",
    "    '''\n",
    "    parts = address.split()\n",
    "    sido = \"\"\n",
    "    sigungu = \"\"\n",
    "    ilbangu = \"\"\n",
    "    eupmyeondong = \"\"\n",
    "    ri_roadname = \"\"\n",
    "    for idx, part in enumerate(parts):\n",
    "        if idx == 0:\n",
    "            sido = part\n",
    "            continue\n",
    "        \n",
    "        if part.endswith(\"시\") or part.endswith(\"군\"):\n",
    "            sigungu = part\n",
    "            continue\n",
    "        \n",
    "        if part.endswith(\"구\"):\n",
    "            if idx == 1:\n",
    "                if len(part) >= 4 and re.search(re1, part):\n",
    "                    sigungu = part[0:2] + \"시\"\n",
    "                    ilbangu = part[2:]\n",
    "                else:\n",
    "                    sigungu = part\n",
    "            else:\n",
    "                ilbangu = part\n",
    "            continue\n",
    "        \n",
    "        if re.search(re2,\n",
    "                        part) and eupmyeondong == '' and how == 'jibun':\n",
    "            eupmyeondong = part\n",
    "            continue\n",
    "            \n",
    "        if part.endswith(\"리\") and how == 'jibun':\n",
    "            ri_roadname = part\n",
    "            continue\n",
    "        \n",
    "        if (part.endswith('로') or part.endswith('길')\n",
    "            ) and how == 'road' and ri_roadname == '':\n",
    "            ri_roadname = part\n",
    "            continue\n",
    "        \n",
    "        if re.search(r\"([가-힣]{2,})(\\([^0-9가-힣a-zA-Z]{1,}\\))\", part):\n",
    "            ri_roadname = part\n",
    "            continue\n",
    "\n",
    "    return sido, sigungu, ilbangu, eupmyeondong, ri_roadname\n"
   ]
  },
  {
   "cell_type": "code",
   "execution_count": null,
   "metadata": {},
   "outputs": [],
   "source": [
    "apt[[\"sido\", \"sigungu\", \"ilbangu\", \"eupmyeondong\", \"ri_roadname\"]] = [parse(apt['시군구'].iloc[i]) for i in notebook.tqdm(range(len(apt)))]\n",
    "officetel[[\"sido\", \"sigungu\", \"ilbangu\", \"eupmyeondong\", \"ri_roadname\"]] = [parse(officetel['시군구'].iloc[i]) for i in notebook.tqdm(range(len(officetel)))]\n",
    "yeon[[\"sido\", \"sigungu\", \"ilbangu\", \"eupmyeondong\", \"ri_roadname\"]] = [parse(yeon['시군구'].iloc[i]) for i in notebook.tqdm(range(len(yeon)))]"
   ]
  },
  {
   "cell_type": "code",
   "execution_count": null,
   "metadata": {},
   "outputs": [],
   "source": [
    "apt['갱신요구권 사용'].value_counts()"
   ]
  },
  {
   "cell_type": "code",
   "execution_count": null,
   "metadata": {},
   "outputs": [],
   "source": [
    "apt['계약기간'].value_counts()"
   ]
  },
  {
   "cell_type": "code",
   "execution_count": null,
   "metadata": {},
   "outputs": [],
   "source": [
    "print(len(apt[apt['계약기간'] == \"-\"]))\n",
    "print(len(apt[apt['계약기간'] != '-']))"
   ]
  },
  {
   "cell_type": "code",
   "execution_count": null,
   "metadata": {},
   "outputs": [],
   "source": [
    "apt.replace({'계약기간' : {'-' : '0~0'}},inplace=True) # 공란 값 변경"
   ]
  },
  {
   "cell_type": "code",
   "execution_count": null,
   "metadata": {},
   "outputs": [],
   "source": [
    "apt['계약기간'].value_counts()"
   ]
  },
  {
   "cell_type": "code",
   "execution_count": null,
   "metadata": {},
   "outputs": [],
   "source": [
    "apt[['계약시작일','계약종료일']] = apt['계약기간'].str.split(\"~\", expand = True)"
   ]
  },
  {
   "cell_type": "code",
   "execution_count": null,
   "metadata": {},
   "outputs": [],
   "source": [
    "apt[[\"sido\", \"sigungu\", \"ilbangu\", \"eupmyeondong\", \"ri_roadname\"]]"
   ]
  },
  {
   "cell_type": "code",
   "execution_count": null,
   "metadata": {},
   "outputs": [],
   "source": [
    "apt.columns # ri_roadname 리"
   ]
  },
  {
   "cell_type": "code",
   "execution_count": null,
   "metadata": {},
   "outputs": [],
   "source": [
    "apt['갱신요구권 사용'].value_counts()"
   ]
  },
  {
   "cell_type": "code",
   "execution_count": null,
   "metadata": {},
   "outputs": [],
   "source": [
    "apt['도로명'].astype(str).str.len().value_counts()"
   ]
  },
  {
   "cell_type": "code",
   "execution_count": null,
   "metadata": {},
   "outputs": [],
   "source": [
    "yeon[yeon['층'].astype(str).str.len() == 3]['층']\n",
    "\n",
    "# yeon['층'].astype(int)"
   ]
  },
  {
   "cell_type": "code",
   "execution_count": null,
   "metadata": {},
   "outputs": [],
   "source": [
    "apt['층'].astype(str).str.len().value_counts() # 읍면동 최대 6자리 시군구 최대 4자리 시도 5자리 "
   ]
  },
  {
   "cell_type": "code",
   "execution_count": null,
   "metadata": {},
   "outputs": [],
   "source": [
    "apt['계약구분'].value_counts()"
   ]
  },
  {
   "cell_type": "code",
   "execution_count": null,
   "metadata": {},
   "outputs": [],
   "source": [
    "apt['전용면적(㎡)'].astype(str).str.len().value_counts() "
   ]
  },
  {
   "cell_type": "code",
   "execution_count": null,
   "metadata": {},
   "outputs": [],
   "source": [
    "cursor.execute(\"\"\"\n",
    "               SELECT TABLE_SCHEMA,TABLE_NAME,COLUMN_NAME,COLUMN_COMMENT\n",
    "               FROM INFORMATION_SCHEMA.COLUMNS\n",
    "               WHERE TABLE_SCHEMA = 'capstone'\n",
    "               AND TABLE_NAME   = 'rent_price';\n",
    "               \"\"\")"
   ]
  },
  {
   "cell_type": "code",
   "execution_count": null,
   "metadata": {},
   "outputs": [],
   "source": [
    "result = pd.DataFrame(cursor.fetchall())"
   ]
  },
  {
   "cell_type": "code",
   "execution_count": null,
   "metadata": {},
   "outputs": [],
   "source": [
    "db_column = list(result.COLUMN_NAME.values)"
   ]
  },
  {
   "cell_type": "code",
   "execution_count": null,
   "metadata": {},
   "outputs": [],
   "source": [
    "print(result.COLUMN_COMMENT.values)"
   ]
  },
  {
   "cell_type": "code",
   "execution_count": null,
   "metadata": {},
   "outputs": [],
   "source": [
    "# 토지고유번호,sido,sigungu,ilbangu,eupmyeondong,ri,본번,부번,산여부,전월세구분,전용면적,계약일자,보증금,월세,종전계약 보증금,종전계약 월세, 건물명,도로명,층,건축년도, 계약 시작일, 계약 종료일, 계약 구분\n",
    "insert_df = apt[[\"토지고유번호\",\"sido\",\"sigungu\",\"ilbangu\",\"eupmyeondong\",\"ri_roadname\",\"본번\",\"부번\",'산',\"전월세구분\",\"전용면적(㎡)\",\"계약년월\",\"계약일\",\"보증금(만원)\",\"월세(만원)\",\"종전계약 보증금 (만원)\",'종전계약 월세 (만원)',\"단지명\",\"도로명\",\"층\",\"건축년도\",\"계약시작일\",'계약종료일','계약구분','갱신요구권 사용']]"
   ]
  },
  {
   "cell_type": "code",
   "execution_count": null,
   "metadata": {},
   "outputs": [],
   "source": [
    "insert_df['계약구분'].value_counts()"
   ]
  },
  {
   "cell_type": "markdown",
   "metadata": {},
   "source": [
    "['address',\n",
    " 'sido',\n",
    " 'sigungu',\n",
    " 'ilbangu',\n",
    " 'eupmyeondong',\n",
    " 'ri',\n",
    " 'main_num',\n",
    " 'sub_num',\n",
    " 'is_mountain',\n",
    " 'rent_type',\n",
    " 'exclusive_area',\n",
    " 'contract_date',\n",
    " 'deposit',\n",
    " 'rent',\n",
    " 'previous_deposit',\n",
    " 'previous_rent',\n",
    " 'building_name',\n",
    " 'road_name',\n",
    " 'floor',\n",
    " 'construction_year',\n",
    " 'contract_start',\n",
    " 'contract_end',\n",
    " 'contract_type',\n",
    " 'renewal_right']\n",
    "\n",
    " Index(['토지고유번호', 'sido', 'sigungu', 'ilbangu', 'eupmyeondong', 'ri_roadname',\n",
    "       '본번', '부번', '산', '전월세구분', '전용면적(㎡)', '계약년월', '계약일', '보증금(만원)', '월세(만원)',\n",
    "       '종전계약 보증금 (만원)', '종전계약 월세 (만원)', '단지명', '도로명', '층', '건축년도', '계약시작일',\n",
    "       '계약종료일', '계약구분'],\n",
    "      dtype='object')"
   ]
  },
  {
   "cell_type": "code",
   "execution_count": null,
   "metadata": {},
   "outputs": [],
   "source": [
    "insert_df['계약일자'] = [str(insert_df['계약년월'].iloc[i]).zfill(2) + str(insert_df['계약일'].iloc[i]).zfill(2) for i in notebook.tqdm(range(len(insert_df)))]"
   ]
  },
  {
   "cell_type": "code",
   "execution_count": null,
   "metadata": {},
   "outputs": [],
   "source": [
    "insert_df['계약일자'].value_counts()"
   ]
  },
  {
   "cell_type": "code",
   "execution_count": null,
   "metadata": {},
   "outputs": [],
   "source": [
    "insert_df['산'].value_counts()"
   ]
  },
  {
   "cell_type": "code",
   "execution_count": null,
   "metadata": {},
   "outputs": [],
   "source": [
    "db_column"
   ]
  },
  {
   "cell_type": "code",
   "execution_count": null,
   "metadata": {},
   "outputs": [],
   "source": [
    "insert_df['본번'] = [str(int(round(float(i),0))).zfill(4) for i in insert_df['본번']]\n",
    "insert_df['부번'] = [str(int(round(float(i),0))).zfill(4) for i in insert_df['부번']]"
   ]
  },
  {
   "cell_type": "code",
   "execution_count": null,
   "metadata": {},
   "outputs": [],
   "source": [
    "insert_df['층'].isna().value_counts()"
   ]
  },
  {
   "cell_type": "code",
   "execution_count": null,
   "metadata": {},
   "outputs": [],
   "source": [
    "import pandas as pd\n",
    "\n",
    "\n",
    "def mass_inserter(args):\n",
    "    df,data_type = args[0],args[1] # 데이터 프레임,데이터 타입\n",
    "    cursor = con.cursor(dictionary=True)\n",
    "    '''\n",
    "    매칭 완료한 데이터를 넣는 함수\n",
    "\n",
    "    df : 매칭 완료한 데이터\n",
    "    data_type : 데이터 종류 (예 : '아파트-전세', '아파트-매매')\n",
    "    jdbc : JDBC 객체\n",
    "    '''\n",
    "    insert_query = \"\"\"\n",
    "        INSERT INTO rent_price(\n",
    "        address,\n",
    "        sido,\n",
    "        sigungu,\n",
    "        ilbangu,\n",
    "        eupmyeondong,\n",
    "\n",
    "        ri,\n",
    "        main_num,\n",
    "        sub_num,\n",
    "        is_mountain,\n",
    "        rent_type,\n",
    "        \n",
    "        exclusive_area,\n",
    "        contract_date,\n",
    "        deposit,\n",
    "        rent,        \n",
    "        previous_deposit,\n",
    "\n",
    "        previous_rent,\n",
    "        property_type,\n",
    "        building_name,\n",
    "        road_name,\n",
    "        floor,\n",
    "        \n",
    "        construction_year,\n",
    "        contract_start,\n",
    "        contract_end,\n",
    "        contract_type,\n",
    "        renewal_right\n",
    "        \n",
    "        ) VALUES(\n",
    "        %s, %s, %s, %s, %s, \n",
    "        %s, %s, %s, %s, %s, \n",
    "        %s, %s, %s, %s, %s, \n",
    "        %s, %s, %s, %s, %s, \n",
    "        %s, %s, %s, %s, %s)\n",
    "    \"\"\"\n",
    "\n",
    "    def row_inserter(row,data_type, data_len):\n",
    "        '''\n",
    "        각 row 별로 insert 작업 수행\n",
    "\n",
    "        row : DataFrame의 row\n",
    "        jdbc : JDBC 객체\n",
    "        data_type : 데이터 종류 (예 : '아파트-전세', '아파트-매매')\n",
    "        data_len : 총 데이터 수\n",
    "        '''\n",
    "    \n",
    "        insert_tuple = (\n",
    "            None if pd.isna(row['토지고유번호']) else row['토지고유번호'],  # address_id\n",
    "            None if pd.isna(row['sido']) else row['sido'], # 시도\n",
    "            None if pd.isna(row['sigungu']) else row['sigungu'], # 시군구\n",
    "            None if pd.isna(row['ilbangu']) else row['ilbangu'], # 일반구\n",
    "            None if pd.isna(row['eupmyeondong']) else row['eupmyeondong'], # 읍면동\n",
    "            None if pd.isna(row['ri_roadname']) else row['ri_roadname'], # 리\n",
    "            None if pd.isna(row['본번']) else str(row['본번']),  # main_num\n",
    "            None if pd.isna(row['부번']) else str(row['부번']),  # sub_num\n",
    "            row['산'], # 산여부(1:일반, 2:산)\n",
    "            None if pd.isna(row['전월세구분']) else row['전월세구분'], # rent_type\n",
    "            None if pd.isna(row['전용면적(㎡)']) else row['전용면적(㎡)'], # exclusive_area\n",
    "            None if pd.isna(row['계약일자']) else str(row['계약일자']), # contract_date = 계약년월 + 계약일\n",
    "            None if pd.isna(row['보증금(만원)']) else int(str(row['보증금(만원)']).replace(',', '')), # deposit \n",
    "            None if pd.isna(row['월세(만원)']) else int(str(row['월세(만원)']).replace(',', '')), # rent\n",
    "            None if pd.isna(row['종전계약 보증금 (만원)']) else int(str(row['종전계약 보증금 (만원)']).replace(',','')), # previous_deposit\n",
    "            None if pd.isna(row['종전계약 월세 (만원)']) else int(str(row['종전계약 월세 (만원)']).replace(',','')), # previous_rent\n",
    "            '아파트', # property_type(주택 유형)\n",
    "            None if pd.isna(row['단지명']) else row['단지명'],  # apart_name\n",
    "            None if pd.isna(row['도로명']) else row['도로명'],\n",
    "            None if pd.isna(row['층']) else int(float(row['층'])),  # floor\n",
    "            None if pd.isna(row['건축년도']) else str(int(row['건축년도'])),\n",
    "            None if pd.isna(row['계약시작일']) else int(row['계약시작일']),\n",
    "            None if pd.isna(row['계약종료일']) else int(row['계약종료일']),\n",
    "            None if row['계약구분'] == '-' else str(row['계약구분']), # 계약구분(신규,갱신,Null)\n",
    "            None if row['갱신요구권 사용'] == '-' else row['갱신요구권 사용']\n",
    "            )\n",
    "\n",
    "        cursor.execute(insert_query, insert_tuple)\n",
    "        try: # 하루의 변동사항이 10건 이하인 경우  ZeroDivisionError: integer division or modulo by zero 발생, 임시 우회\n",
    "            index = row.name + 1\n",
    "            if index % (data_len // 10) == 0:\n",
    "                print(f'{data_type} : {index/data_len*100:.2f}% a_id INSERT 완료')\n",
    "        except:\n",
    "            pass\n",
    "\n",
    "    print(f'{data_type} 데이터 넣기 시작')\n",
    "    data_len = len(df)\n",
    "    df.progress_apply(row_inserter,\n",
    "             data_type=data_type,\n",
    "             data_len=data_len,\n",
    "             axis=1)\n",
    "    con.commit()\n",
    "    print('커밋 후 커서를 종료했습니다.')\n",
    "    cursor.close()\n",
    "    con.close()\n",
    "    print(f'{data_type} 데이터 넣기 완료')\n"
   ]
  },
  {
   "cell_type": "code",
   "execution_count": null,
   "metadata": {},
   "outputs": [],
   "source": [
    "# mass_inserter 안에 row_inserter를 넣으면 됌\n",
    "# 이중 정의 함수의 문제 상황은 어떤 게 발생할 수 있나??"
   ]
  },
  {
   "cell_type": "code",
   "execution_count": null,
   "metadata": {},
   "outputs": [],
   "source": [
    "sample = insert_df.sample(5)"
   ]
  },
  {
   "cell_type": "code",
   "execution_count": null,
   "metadata": {},
   "outputs": [],
   "source": [
    "sample"
   ]
  },
  {
   "cell_type": "code",
   "execution_count": null,
   "metadata": {},
   "outputs": [],
   "source": [
    "from tqdm import tqdm\n",
    "from multiprocessing import Pool\n",
    "\n",
    "tqdm.pandas()"
   ]
  },
  {
   "cell_type": "code",
   "execution_count": null,
   "metadata": {},
   "outputs": [],
   "source": [
    "args = [[insert_df.iloc[:400000],'아파트-전세'],\n",
    "        [insert_df.iloc[400000:800000],'아파트-전세'],\n",
    "        [insert_df.iloc[800000:1200000],'아파트-전세'],\n",
    "        [insert_df.iloc[1200000:1600000],'아파트-전세'],\n",
    "        [insert_df.iloc[1600000:],'아파트-전세']]"
   ]
  },
  {
   "cell_type": "code",
   "execution_count": null,
   "metadata": {},
   "outputs": [],
   "source": [
    "from module.rent_price import mass_inserter as m"
   ]
  },
  {
   "cell_type": "code",
   "execution_count": null,
   "metadata": {},
   "outputs": [],
   "source": [
    "if __name__ == '__main__':\n",
    "    with Pool(5) as pool:\n",
    "        with notebook.tqdm(total = len(args)) as pbar:\n",
    "            for _ in pool.imap_unordered(m.mass_inserter,args):\n",
    "                pbar.update()"
   ]
  },
  {
   "cell_type": "code",
   "execution_count": 29,
   "metadata": {},
   "outputs": [
    {
     "name": "stderr",
     "output_type": "stream",
     "text": [
      "/var/folders/nv/hhtvgb4j61l7czw1g2vm7pdc0000gn/T/ipykernel_41995/2987946642.py:1: DtypeWarning: Columns (14,15,16) have mixed types. Specify dtype option on import or set low_memory=False.\n",
      "  l = pd.read_csv('./data/실거래_가공/아파트_가공_직접_삽입.csv',encoding='cp949')\n"
     ]
    }
   ],
   "source": [
    "l = pd.read_csv('./data/실거래_가공/아파트_가공_직접_삽입.csv',encoding='cp949')"
   ]
  },
  {
   "cell_type": "code",
   "execution_count": 30,
   "metadata": {},
   "outputs": [
    {
     "data": {
      "text/plain": [
       "RangeIndex(start=0, stop=2024191, step=1)"
      ]
     },
     "execution_count": 30,
     "metadata": {},
     "output_type": "execute_result"
    }
   ],
   "source": [
    "l.index"
   ]
  },
  {
   "cell_type": "code",
   "execution_count": 35,
   "metadata": {},
   "outputs": [],
   "source": [
    "l.to_csv('./data/실거래_가공/아파트_가공_직접_삽입_utf-8.csv',encoding='utf-8')"
   ]
  },
  {
   "cell_type": "code",
   "execution_count": 36,
   "metadata": {},
   "outputs": [
    {
     "name": "stderr",
     "output_type": "stream",
     "text": [
      "/var/folders/nv/hhtvgb4j61l7czw1g2vm7pdc0000gn/T/ipykernel_41995/1636326145.py:1: DtypeWarning: Columns (15,16,17) have mixed types. Specify dtype option on import or set low_memory=False.\n",
      "  ll = pd.read_csv('./data/실거래_가공/아파트_가공_직접_삽입_utf-8.csv',encoding='utf-8')\n"
     ]
    }
   ],
   "source": [
    "ll = pd.read_csv('./data/실거래_가공/아파트_가공_직접_삽입_utf-8.csv',encoding='utf-8')"
   ]
  },
  {
   "cell_type": "code",
   "execution_count": 37,
   "metadata": {},
   "outputs": [
    {
     "data": {
      "text/plain": [
       "RangeIndex(start=0, stop=2024191, step=1)"
      ]
     },
     "execution_count": 37,
     "metadata": {},
     "output_type": "execute_result"
    }
   ],
   "source": [
    "ll.index"
   ]
  },
  {
   "cell_type": "code",
   "execution_count": null,
   "metadata": {},
   "outputs": [],
   "source": [
    "mass_inserter(args = [insert_df,'아파트-전세']) # 해당 방식 15it/s 너무 느림"
   ]
  },
  {
   "cell_type": "code",
   "execution_count": null,
   "metadata": {},
   "outputs": [],
   "source": [
    "import re\n",
    "import json\n",
    "\n",
    "\n",
    "class AddressParser:\n",
    "    '''\n",
    "    주소를 각 명칭으로 나누거나\n",
    "    토지고유번호를 매칭해주는 class\n",
    "    '''\n",
    "    __jibun_search_query = '''\n",
    "        SELECT {}\n",
    "        FROM addresses \n",
    "        WHERE sido = %s \n",
    "        AND sigungu = %s \n",
    "        AND ilbangu = %s \n",
    "        AND eupmyeondong = %s \n",
    "        AND ri = %s \n",
    "        AND is_mountain = %s \n",
    "        AND num1 = %s\n",
    "        AND {}\n",
    "    '''\n",
    "    __road_search_query = '''\n",
    "        SELECT {}\n",
    "        FROM addresses \n",
    "        WHERE sido = %s \n",
    "        AND sigungu = %s \n",
    "        AND ilbangu = %s \n",
    "        AND road_name = %s\n",
    "        AND road_num1 = %s\n",
    "        AND road_num2 = %s\n",
    "    '''\n",
    "    __search_by_aid = '''\n",
    "        SELECT {}\n",
    "        FROM addresses\n",
    "        WHERE id = %s\n",
    "    '''\n",
    "\n",
    "    def __init__(self):\n",
    "        '''\n",
    "        주소를 불러와\n",
    "        sido, sigungu, ilbangu, eupmyeondong, ri_roadname으로 나누는 작업을 해주는 class\n",
    "        '''\n",
    "        self.re1 = re.compile(\"^(수원|고양|용인|창원|성남|청주|전주|천안|안산|안양|포항)\")\n",
    "        self.re2 = re.compile(\"([읍면동]|[0-9]가|시장북로|세종로|남성로)$\")\n",
    "\n",
    "    def parse(self, address, how='jibun'):\n",
    "        '''\n",
    "        주소를 받고 how 값에 따라 지번 또는 도로명 주소로 값을 return하는 메소드\n",
    "\n",
    "        address : 주소\n",
    "        how : 지번으로 parsing 또는 도로명으로 parsing ('jibun', 'road')\n",
    "        '''\n",
    "        parts = address.split()\n",
    "        sido = \"\"\n",
    "        sigungu = \"\"\n",
    "        ilbangu = \"\"\n",
    "        eupmyeondong = \"\"\n",
    "        ri_roadname = \"\"\n",
    "        for idx, part in enumerate(parts):\n",
    "            if idx == 0:\n",
    "                sido = part\n",
    "                continue\n",
    "            \n",
    "            if part.endswith(\"시\") or part.endswith(\"군\"):\n",
    "                sigungu = part\n",
    "                continue\n",
    "            \n",
    "            if part.endswith(\"구\"):\n",
    "                if idx == 1:\n",
    "                    if len(part) >= 4 and re.search(self.re1, part):\n",
    "                        sigungu = part[0:2] + \"시\"\n",
    "                        ilbangu = part[2:]\n",
    "                    else:\n",
    "                        sigungu = part\n",
    "                else:\n",
    "                    ilbangu = part\n",
    "                continue\n",
    "            \n",
    "            if re.search(self.re2,\n",
    "                         part) and eupmyeondong == '' and how == 'jibun':\n",
    "                eupmyeondong = part\n",
    "                continue\n",
    "                \n",
    "            if part.endswith(\"리\") and how == 'jibun':\n",
    "                ri_roadname = part\n",
    "                continue\n",
    "            \n",
    "            if (part.endswith('로') or part.endswith('길')\n",
    "                ) and how == 'road' and ri_roadname == '':\n",
    "                ri_roadname = part\n",
    "                continue\n",
    "            \n",
    "            if re.search(r\"([가-힣]{2,})(\\([^0-9가-힣a-zA-Z]{1,}\\))\", part):\n",
    "                ri_roadname = part\n",
    "                continue\n",
    "\n",
    "        return sido, sigungu, ilbangu, eupmyeondong, ri_roadname\n",
    "\n",
    "    def get_address_id(self,\n",
    "                       addr,\n",
    "                       http,\n",
    "                       jdbc,\n",
    "                       silent=False,\n",
    "                       additional_columns=None):\n",
    "        '''\n",
    "        지번 또는 도로명 주소로 구성 되어있는 주소를 parsing하여 토지 고유번호 매칭.\n",
    "        깔끔하게 구성한 주소여야 함.\n",
    "        대량의 주소를 변경하는 경우로 예상하여 http나 jdbc 객체를 받게끔 정의\n",
    "\n",
    "        addr : 주소\n",
    "        http : urllib3 PoolManager 객체\n",
    "        jdbc : JDBC 객체\n",
    "        silent : 못 찾았을 때, 출력값 보여주기 여부\n",
    "        additional_columns : addresses에서 id 값 뿐만 아니라 더 검색할 columns 값들\n",
    "        '''\n",
    "        search_columns = 'id, '\n",
    "        if additional_columns is not None:\n",
    "            for column in additional_columns:\n",
    "                search_columns += column + ', '\n",
    "        search_columns = search_columns[:-2]\n",
    "\n",
    "        def search_road(addr, splitted_addr):\n",
    "            '''\n",
    "            주소 형태가 도로명 주소인 경우라고 판단 할 때, 매칭하는 코드\n",
    "            먼저 postcodify에서 검색 후 없으면 addresses에서 검색\n",
    "\n",
    "            addr : 주소\n",
    "            splitted_addr : 분리된 주소\n",
    "            '''\n",
    "            number = addr.split()[-1]\n",
    "            road_name = splitted_addr[-1] + ' ' + number\n",
    "\n",
    "            number = number.split('-')\n",
    "            num1 = number[0]\n",
    "            num2 = number[1] if len(number) == 2 else 0\n",
    "\n",
    "            r = http.request('GET',\n",
    "                             'http://192.168.20.2/postcodify/lib/search.php',\n",
    "                             fields={'q': addr})\n",
    "\n",
    "            if r.status == 200:\n",
    "                results = json.loads(r.data.decode('utf8'))['results']\n",
    "                filtered = list(\n",
    "                    filter(lambda x: x['ko_doro'] == road_name, results))\n",
    "\n",
    "                if len(filtered) == 1:\n",
    "                    a_id = filtered[0]['address_id']\n",
    "                    res = jdbc.fetch_data(\n",
    "                        AddressParser.__search_by_aid.format(search_columns),\n",
    "                        (a_id, ),\n",
    "                        ret_type='raw')\n",
    "                    if len(res) == 1:\n",
    "                        if additional_columns is None:\n",
    "                            return res[0][0]\n",
    "                        return res[0]\n",
    "\n",
    "                res = jdbc.fetch_data(\n",
    "                    AddressParser.__road_search_query.format(search_columns),\n",
    "                    splitted_addr[:3] + (splitted_addr[-1], num1, num2),\n",
    "                    ret_type='raw')\n",
    "                if len(res) == 1:\n",
    "                    if additional_columns is None:\n",
    "                        return res[0][0]\n",
    "                    return res[0]\n",
    "\n",
    "                return None\n",
    "            raise Exception('도로명 주소 서버 통신 실패')\n",
    "\n",
    "        def search_jibun(addr, splitted_addr):\n",
    "            '''\n",
    "            주소 형태가 지번 주소인 경우라고 판단 할 때, 매칭하는 코드\n",
    "\n",
    "            addr : 주소\n",
    "            splitted_addr : 분리된 주소\n",
    "            '''\n",
    "            number = addr.split()[-1]\n",
    "            if number[0] == '산':\n",
    "                number = number[1:]\n",
    "                is_mountain = 2\n",
    "            else:\n",
    "                is_mountain = 1\n",
    "            number = number.split('-')\n",
    "            num1 = number[0]\n",
    "            num2_case = f'num2 = {number[1]}' if len(\n",
    "                number) == 2 and number[1].isdigit() else '(num2 IS NULL or num2 = 0)'\n",
    "\n",
    "            res = jdbc.fetch_data(AddressParser.__jibun_search_query.format(\n",
    "                search_columns, num2_case),\n",
    "                                  splitted_addr + (is_mountain, num1),\n",
    "                                  ret_type='raw')\n",
    "            if len(res) == 1:\n",
    "                if additional_columns is None:\n",
    "                    return res[0][0]\n",
    "                return res[0]\n",
    "            return None\n",
    "\n",
    "        match = re.compile(r'\\s+산{0,1}\\d{1,}-?\\d{0,}').search(addr)\n",
    "\n",
    "        if match is None:\n",
    "            return None\n",
    "\n",
    "        used_addr = addr[:match.end()]\n",
    "\n",
    "        road_splited_addr = self.parse(used_addr, how='road')\n",
    "        jibun_splited_addr = self.parse(used_addr, how='jibun')\n",
    "        addr_type = 'road'\n",
    "        if road_splited_addr[-1] == '':\n",
    "            addr_type = 'jibun'\n",
    "\n",
    "        if addr_type == 'road':\n",
    "            result = search_road(used_addr, road_splited_addr)\n",
    "            if result is None:\n",
    "                result = search_jibun(used_addr, jibun_splited_addr)\n",
    "        else:\n",
    "            result = search_jibun(used_addr, jibun_splited_addr)\n",
    "            if result is None:\n",
    "                result = search_road(used_addr, road_splited_addr)\n",
    "        if result is None and not silent:\n",
    "            print(f'\"{used_addr}\" 주소 하나로 결정 불가')\n",
    "        return result\n"
   ]
  }
 ],
 "metadata": {
  "kernelspec": {
   "display_name": "base",
   "language": "python",
   "name": "python3"
  },
  "language_info": {
   "codemirror_mode": {
    "name": "ipython",
    "version": 3
   },
   "file_extension": ".py",
   "mimetype": "text/x-python",
   "name": "python",
   "nbconvert_exporter": "python",
   "pygments_lexer": "ipython3",
   "version": "3.9.10"
  }
 },
 "nbformat": 4,
 "nbformat_minor": 2
}
