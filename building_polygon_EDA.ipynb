{
 "cells": [
  {
   "cell_type": "code",
   "execution_count": 1,
   "metadata": {},
   "outputs": [],
   "source": [
    "import geopandas as gpd\n",
    "import fiona\n",
    "import folium as fm\n",
    "import pandas as pd\n",
    "import numpy as np\n",
    "\n",
    "import os, sys\n",
    "import glob\n",
    "from tqdm import tqdm"
   ]
  },
  {
   "cell_type": "code",
   "execution_count": 3,
   "metadata": {},
   "outputs": [],
   "source": [
    "b = gpd.read_file(\"data/도로명주소_전자지도_2023_9월/11000/TL_SPBD_BULD.shp\", encoding = 'cp949')"
   ]
  },
  {
   "cell_type": "code",
   "execution_count": 27,
   "metadata": {},
   "outputs": [
    {
     "data": {
      "text/plain": [
       "203344    POLYGON ((958998.856 1955052.586, 958992.891 1...\n",
       "571423    POLYGON ((968566.242 1949266.155, 968563.836 1...\n",
       "539776    POLYGON ((959791.443 1947457.218, 959793.835 1...\n",
       "Name: geometry, dtype: geometry"
      ]
     },
     "execution_count": 27,
     "metadata": {},
     "output_type": "execute_result"
    }
   ],
   "source": [
    "b['geometry'].sample(3)"
   ]
  },
  {
   "cell_type": "code",
   "execution_count": 12,
   "metadata": {},
   "outputs": [
    {
     "data": {
      "text/html": [
       "<div>\n",
       "<style scoped>\n",
       "    .dataframe tbody tr th:only-of-type {\n",
       "        vertical-align: middle;\n",
       "    }\n",
       "\n",
       "    .dataframe tbody tr th {\n",
       "        vertical-align: top;\n",
       "    }\n",
       "\n",
       "    .dataframe thead th {\n",
       "        text-align: right;\n",
       "    }\n",
       "</style>\n",
       "<table border=\"1\" class=\"dataframe\">\n",
       "  <thead>\n",
       "    <tr style=\"text-align: right;\">\n",
       "      <th></th>\n",
       "      <th>BDTYP_CD</th>\n",
       "      <th>BD_MGT_SN</th>\n",
       "      <th>BSI_INT_SN</th>\n",
       "      <th>BSI_ZON_NO</th>\n",
       "      <th>BULD_MNNM</th>\n",
       "      <th>BULD_NM</th>\n",
       "      <th>BULD_NM_DC</th>\n",
       "      <th>BULD_SE_CD</th>\n",
       "      <th>BULD_SLNO</th>\n",
       "      <th>BUL_DPN_SE</th>\n",
       "      <th>...</th>\n",
       "      <th>MVM_RES_CD</th>\n",
       "      <th>NTFC_DE</th>\n",
       "      <th>OPERT_DE</th>\n",
       "      <th>POS_BUL_NM</th>\n",
       "      <th>RDS_MAN_NO</th>\n",
       "      <th>RDS_SIG_CD</th>\n",
       "      <th>RN_CD</th>\n",
       "      <th>SIG_CD</th>\n",
       "      <th>UND_FLO_CO</th>\n",
       "      <th>geometry</th>\n",
       "    </tr>\n",
       "  </thead>\n",
       "  <tbody>\n",
       "    <tr>\n",
       "      <th>372064</th>\n",
       "      <td>01001</td>\n",
       "      <td>1150011000104210060001186</td>\n",
       "      <td>22660</td>\n",
       "      <td>07503</td>\n",
       "      <td>9</td>\n",
       "      <td>None</td>\n",
       "      <td>None</td>\n",
       "      <td>0</td>\n",
       "      <td>23</td>\n",
       "      <td>M</td>\n",
       "      <td>...</td>\n",
       "      <td>79</td>\n",
       "      <td>20110729</td>\n",
       "      <td>20170731140018</td>\n",
       "      <td>None</td>\n",
       "      <td>918</td>\n",
       "      <td>11500</td>\n",
       "      <td>4145107</td>\n",
       "      <td>11500</td>\n",
       "      <td>1</td>\n",
       "      <td>POLYGON ((938108.983 1953862.695, 938102.194 1...</td>\n",
       "    </tr>\n",
       "    <tr>\n",
       "      <th>138701</th>\n",
       "      <td>01003</td>\n",
       "      <td>1123010200101030030036783</td>\n",
       "      <td>21707</td>\n",
       "      <td>02585</td>\n",
       "      <td>6</td>\n",
       "      <td>None</td>\n",
       "      <td>None</td>\n",
       "      <td>0</td>\n",
       "      <td>0</td>\n",
       "      <td>M</td>\n",
       "      <td>...</td>\n",
       "      <td>71</td>\n",
       "      <td>20110729</td>\n",
       "      <td>20071213</td>\n",
       "      <td>None</td>\n",
       "      <td>2358</td>\n",
       "      <td>11230</td>\n",
       "      <td>4115520</td>\n",
       "      <td>11230</td>\n",
       "      <td>0</td>\n",
       "      <td>POLYGON ((958760.993 1952878.618, 958761.193 1...</td>\n",
       "    </tr>\n",
       "    <tr>\n",
       "      <th>568877</th>\n",
       "      <td>02003</td>\n",
       "      <td>1174010800103810028000001</td>\n",
       "      <td>4659</td>\n",
       "      <td>05374</td>\n",
       "      <td>60</td>\n",
       "      <td>None</td>\n",
       "      <td>None</td>\n",
       "      <td>0</td>\n",
       "      <td>0</td>\n",
       "      <td>M</td>\n",
       "      <td>...</td>\n",
       "      <td>71</td>\n",
       "      <td>20111116</td>\n",
       "      <td>20111020150341</td>\n",
       "      <td>None</td>\n",
       "      <td>83</td>\n",
       "      <td>11740</td>\n",
       "      <td>4172224</td>\n",
       "      <td>11740</td>\n",
       "      <td>0</td>\n",
       "      <td>POLYGON ((967713.513 1948242.620, 967708.817 1...</td>\n",
       "    </tr>\n",
       "  </tbody>\n",
       "</table>\n",
       "<p>3 rows × 31 columns</p>\n",
       "</div>"
      ],
      "text/plain": [
       "       BDTYP_CD                  BD_MGT_SN  BSI_INT_SN BSI_ZON_NO  BULD_MNNM  \\\n",
       "372064    01001  1150011000104210060001186       22660      07503          9   \n",
       "138701    01003  1123010200101030030036783       21707      02585          6   \n",
       "568877    02003  1174010800103810028000001        4659      05374         60   \n",
       "\n",
       "       BULD_NM BULD_NM_DC BULD_SE_CD  BULD_SLNO BUL_DPN_SE  ... MVM_RES_CD  \\\n",
       "372064    None       None          0         23          M  ...         79   \n",
       "138701    None       None          0          0          M  ...         71   \n",
       "568877    None       None          0          0          M  ...         71   \n",
       "\n",
       "         NTFC_DE        OPERT_DE  POS_BUL_NM  RDS_MAN_NO RDS_SIG_CD    RN_CD  \\\n",
       "372064  20110729  20170731140018        None         918      11500  4145107   \n",
       "138701  20110729        20071213        None        2358      11230  4115520   \n",
       "568877  20111116  20111020150341        None          83      11740  4172224   \n",
       "\n",
       "        SIG_CD UND_FLO_CO                                           geometry  \n",
       "372064   11500          1  POLYGON ((938108.983 1953862.695, 938102.194 1...  \n",
       "138701   11230          0  POLYGON ((958760.993 1952878.618, 958761.193 1...  \n",
       "568877   11740          0  POLYGON ((967713.513 1948242.620, 967708.817 1...  \n",
       "\n",
       "[3 rows x 31 columns]"
      ]
     },
     "execution_count": 12,
     "metadata": {},
     "output_type": "execute_result"
    }
   ],
   "source": [
    "b.sample(3)"
   ]
  },
  {
   "cell_type": "code",
   "execution_count": 15,
   "metadata": {},
   "outputs": [],
   "source": [
    "test = b[['BD_MGT_SN','BSI_ZON_NO','LNBR_MNNM','LNBR_SLNO',\"EMD_CD\"]].sample(5)"
   ]
  },
  {
   "cell_type": "code",
   "execution_count": 16,
   "metadata": {},
   "outputs": [
    {
     "data": {
      "text/html": [
       "<div>\n",
       "<style scoped>\n",
       "    .dataframe tbody tr th:only-of-type {\n",
       "        vertical-align: middle;\n",
       "    }\n",
       "\n",
       "    .dataframe tbody tr th {\n",
       "        vertical-align: top;\n",
       "    }\n",
       "\n",
       "    .dataframe thead th {\n",
       "        text-align: right;\n",
       "    }\n",
       "</style>\n",
       "<table border=\"1\" class=\"dataframe\">\n",
       "  <thead>\n",
       "    <tr style=\"text-align: right;\">\n",
       "      <th></th>\n",
       "      <th>BD_MGT_SN</th>\n",
       "      <th>BSI_ZON_NO</th>\n",
       "      <th>LNBR_MNNM</th>\n",
       "      <th>LNBR_SLNO</th>\n",
       "      <th>EMD_CD</th>\n",
       "    </tr>\n",
       "  </thead>\n",
       "  <tbody>\n",
       "    <tr>\n",
       "      <th>66394</th>\n",
       "      <td>1117010700100240006024364</td>\n",
       "      <td>04334</td>\n",
       "      <td>24</td>\n",
       "      <td>6</td>\n",
       "      <td>107</td>\n",
       "    </tr>\n",
       "    <tr>\n",
       "      <th>483051</th>\n",
       "      <td>1162010200104710029014361</td>\n",
       "      <td>08704</td>\n",
       "      <td>471</td>\n",
       "      <td>29</td>\n",
       "      <td>102</td>\n",
       "    </tr>\n",
       "    <tr>\n",
       "      <th>132649</th>\n",
       "      <td>1123011000103320008003854</td>\n",
       "      <td>02451</td>\n",
       "      <td>332</td>\n",
       "      <td>8</td>\n",
       "      <td>110</td>\n",
       "    </tr>\n",
       "    <tr>\n",
       "      <th>447602</th>\n",
       "      <td>1156010300102350001034448</td>\n",
       "      <td>07253</td>\n",
       "      <td>235</td>\n",
       "      <td>0</td>\n",
       "      <td>103</td>\n",
       "    </tr>\n",
       "    <tr>\n",
       "      <th>473051</th>\n",
       "      <td>1162010200100920248022502</td>\n",
       "      <td>08783</td>\n",
       "      <td>92</td>\n",
       "      <td>246</td>\n",
       "      <td>102</td>\n",
       "    </tr>\n",
       "  </tbody>\n",
       "</table>\n",
       "</div>"
      ],
      "text/plain": [
       "                        BD_MGT_SN BSI_ZON_NO  LNBR_MNNM  LNBR_SLNO EMD_CD\n",
       "66394   1117010700100240006024364      04334         24          6    107\n",
       "483051  1162010200104710029014361      08704        471         29    102\n",
       "132649  1123011000103320008003854      02451        332          8    110\n",
       "447602  1156010300102350001034448      07253        235          0    103\n",
       "473051  1162010200100920248022502      08783         92        246    102"
      ]
     },
     "execution_count": 16,
     "metadata": {},
     "output_type": "execute_result"
    }
   ],
   "source": [
    "test"
   ]
  },
  {
   "cell_type": "code",
   "execution_count": 19,
   "metadata": {},
   "outputs": [
    {
     "name": "stderr",
     "output_type": "stream",
     "text": [
      "/var/folders/nv/hhtvgb4j61l7czw1g2vm7pdc0000gn/T/ipykernel_49245/3254293256.py:1: FutureWarning: The behavior of `series[i:j]` with an integer-dtype index is deprecated. In a future version, this will be treated as *label-based* indexing, consistent with e.g. `series[i]` lookups. To retain the old behavior, use `series.iloc[i:j]`. To get the future behavior, use `series.loc[i:j]`.\n",
      "  test[\"BD_MGT_SN\"][5:3]\n"
     ]
    },
    {
     "data": {
      "text/plain": [
       "Series([], Name: BD_MGT_SN, dtype: object)"
      ]
     },
     "execution_count": 19,
     "metadata": {},
     "output_type": "execute_result"
    }
   ],
   "source": [
    "test[\"BD_MGT_SN\"]"
   ]
  },
  {
   "cell_type": "code",
   "execution_count": 29,
   "metadata": {},
   "outputs": [
    {
     "data": {
      "image/svg+xml": [
       "<svg xmlns=\"http://www.w3.org/2000/svg\" xmlns:xlink=\"http://www.w3.org/1999/xlink\" width=\"100.0\" height=\"100.0\" viewBox=\"953500.0170132389 1950216.3994224903 6.058845186140388 4.14834125014022\" preserveAspectRatio=\"xMinYMin meet\"><g transform=\"matrix(1,0,0,-1,0,3900436.9471862307)\"><path fill-rule=\"evenodd\" fill=\"#66cc99\" stroke=\"#555555\" stroke-width=\"0.12117690372280776\" opacity=\"0.6\" d=\"M 953505.8514567515,1950220.1079041853 L 953505.7259645849,1950216.6238241638 L 953500.2414149124,1950216.8642186362 L 953500.3566780839,1950220.3233620669 L 953505.8514567515,1950220.1079041853 z\" /></g></svg>"
      ],
      "text/plain": [
       "<shapely.geometry.polygon.Polygon at 0x322036760>"
      ]
     },
     "execution_count": 29,
     "metadata": {},
     "output_type": "execute_result"
    }
   ],
   "source": [
    "1117010700100240006 #66394 행의 건물 확인 # 서울 용산구 동자동 24-6\n",
    "\n",
    "b[b.index==66394]['geometry'].values[0]"
   ]
  },
  {
   "cell_type": "code",
   "execution_count": null,
   "metadata": {},
   "outputs": [],
   "source": []
  }
 ],
 "metadata": {
  "kernelspec": {
   "display_name": "base",
   "language": "python",
   "name": "python3"
  },
  "language_info": {
   "codemirror_mode": {
    "name": "ipython",
    "version": 3
   },
   "file_extension": ".py",
   "mimetype": "text/x-python",
   "name": "python",
   "nbconvert_exporter": "python",
   "pygments_lexer": "ipython3",
   "version": "3.9.10"
  }
 },
 "nbformat": 4,
 "nbformat_minor": 2
}
