{
 "cells": [
  {
   "cell_type": "code",
   "execution_count": 22,
   "metadata": {},
   "outputs": [
    {
     "data": {
      "text/plain": [
       "0          1\n",
       "715949     1\n",
       "715951     1\n",
       "715952     1\n",
       "715953     1\n",
       "          ..\n",
       "357984     1\n",
       "357985     1\n",
       "357986     1\n",
       "357987     1\n",
       "1073938    1\n",
       "Length: 1073939, dtype: int64"
      ]
     },
     "execution_count": 22,
     "metadata": {},
     "output_type": "execute_result"
    }
   ],
   "source": [
    "import os, sys, glob\n",
    "import pandas as pd\n",
    "from tqdm import tqdm\n",
    "li = glob.glob(\"./data/실거래가/연립다세대/*\") # 아파트, 오피스텔, 연립다세대\n",
    "li.sort()\n",
    "df = pd.DataFrame()\n",
    "\n",
    "for i in li:\n",
    "    rows = pd.read_csv(i,skiprows = 15, encoding = 'cp949',low_memory=False)\n",
    "    df = pd.concat([df,rows])\n",
    "df.reset_index(drop=True,inplace=True)\n",
    "\n",
    "df.index.value_counts()"
   ]
  },
  {
   "cell_type": "code",
   "execution_count": 24,
   "metadata": {},
   "outputs": [
    {
     "name": "stdout",
     "output_type": "stream",
     "text": [
      "1073939\n"
     ]
    }
   ],
   "source": [
    "print(len(df)) # 오피스텔 447133 연립다세대 10733939"
   ]
  },
  {
   "cell_type": "code",
   "execution_count": 25,
   "metadata": {},
   "outputs": [],
   "source": [
    "land = pd.read_csv('./data/토지임야정보/AL_11_D003_20231007.csv',encoding='cp949')"
   ]
  },
  {
   "cell_type": "code",
   "execution_count": 26,
   "metadata": {},
   "outputs": [
    {
     "name": "stderr",
     "output_type": "stream",
     "text": [
      "100%|██████████| 467/467 [00:10<00:00, 46.08it/s]\n"
     ]
    }
   ],
   "source": [
    "land_dict = {land['법정동명'].value_counts().index[i] : land['법정동코드'].value_counts().index[i] for i in tqdm(range(len(land['법정동명'].value_counts())))}"
   ]
  },
  {
   "cell_type": "code",
   "execution_count": 27,
   "metadata": {},
   "outputs": [
    {
     "name": "stderr",
     "output_type": "stream",
     "text": [
      "100%|██████████| 1073939/1073939 [00:04<00:00, 261277.80it/s]\n"
     ]
    }
   ],
   "source": [
    "df['법정동코드'] = 0\n",
    "df['법정동코드'] = [land_dict[df['시군구'].iloc[i]] for i in tqdm(range(len(df)))]"
   ]
  },
  {
   "cell_type": "code",
   "execution_count": 28,
   "metadata": {},
   "outputs": [
    {
     "name": "stderr",
     "output_type": "stream",
     "text": [
      "100%|██████████| 54906/54906 [00:00<00:00, 4363500.30it/s]\n"
     ]
    }
   ],
   "source": [
    "bunji = list(df['번지'].unique())\n",
    "san_check = [s for s in tqdm(bunji) if str(s).__contains__(\"산\")]"
   ]
  },
  {
   "cell_type": "code",
   "execution_count": 29,
   "metadata": {},
   "outputs": [
    {
     "name": "stderr",
     "output_type": "stream",
     "text": [
      "  0%|          | 0/88 [00:00<?, ?it/s]/var/folders/nv/hhtvgb4j61l7czw1g2vm7pdc0000gn/T/ipykernel_43667/2774753082.py:5: SettingWithCopyWarning: \n",
      "A value is trying to be set on a copy of a slice from a DataFrame\n",
      "\n",
      "See the caveats in the documentation: https://pandas.pydata.org/pandas-docs/stable/user_guide/indexing.html#returning-a-view-versus-a-copy\n",
      "  df.loc[:,'산'][i] = 2\n",
      "100%|██████████| 88/88 [00:00<00:00, 9216.64it/s]\n",
      "100%|██████████| 2/2 [00:00<00:00, 3215.26it/s]\n",
      "100%|██████████| 5/5 [00:00<00:00, 2093.80it/s]\n",
      "100%|██████████| 4/4 [00:00<00:00, 5319.35it/s]\n",
      "100%|██████████| 7/7 [00:00<00:00, 4901.52it/s]\n",
      "100%|██████████| 9/9 [00:00<00:00, 353.63it/s]\n",
      "100%|██████████| 1/1 [00:00<00:00, 73.43it/s]\n",
      "100%|██████████| 1/1 [00:00<00:00, 71.38it/s]\n",
      "100%|██████████| 4/4 [00:00<00:00, 60.28it/s]\n",
      "100%|██████████| 8/8 [00:00<00:00, 103.95it/s]\n",
      "100%|██████████| 3/3 [00:00<00:00, 5184.55it/s]\n",
      "100%|██████████| 1/1 [00:00<00:00, 3146.51it/s]\n",
      "100%|██████████| 8/8 [00:00<00:00, 6071.00it/s]\n",
      "100%|██████████| 10/10 [00:00<00:00, 7823.73it/s]\n",
      "100%|██████████| 1/1 [00:00<00:00, 3292.23it/s]\n",
      "100%|██████████| 17/17 [00:00<00:00, 8831.21it/s]\n",
      "100%|██████████| 1/1 [00:00<00:00, 3292.23it/s]\n",
      "100%|██████████| 56/56 [00:00<00:00, 9533.67it/s]\n",
      "100%|██████████| 2/2 [00:00<00:00, 3194.44it/s]\n",
      "100%|██████████| 272/272 [00:00<00:00, 9683.82it/s]\n",
      "100%|██████████| 2/2 [00:00<00:00, 4662.93it/s]\n",
      "100%|██████████| 4/4 [00:00<00:00, 6116.37it/s]\n",
      "100%|██████████| 5/5 [00:00<00:00, 3779.33it/s]\n",
      "100%|██████████| 8/8 [00:00<00:00, 7697.74it/s]\n",
      "100%|██████████| 1/1 [00:00<00:00, 2959.99it/s]\n",
      "100%|██████████| 5/5 [00:00<00:00, 4980.18it/s]\n",
      "100%|██████████| 2/2 [00:00<00:00, 4348.68it/s]\n",
      "100%|██████████| 3/3 [00:00<00:00, 4755.45it/s]\n"
     ]
    }
   ],
   "source": [
    "df['산'] = 1\n",
    "for i in san_check:\n",
    "    change = df[df['번지'] == i]\n",
    "    for i in tqdm(change.index):\n",
    "        df.loc[:,'산'][i] = 2"
   ]
  },
  {
   "cell_type": "code",
   "execution_count": 30,
   "metadata": {},
   "outputs": [
    {
     "data": {
      "text/plain": [
       "1    1073409\n",
       "2        530\n",
       "Name: 산, dtype: int64"
      ]
     },
     "execution_count": 30,
     "metadata": {},
     "output_type": "execute_result"
    }
   ],
   "source": [
    "df['산'].value_counts() "
   ]
  },
  {
   "cell_type": "code",
   "execution_count": 31,
   "metadata": {},
   "outputs": [],
   "source": [
    "df[df['본번'].isna() == True]\n",
    "df = df[df['본번'].isna() == False]"
   ]
  },
  {
   "cell_type": "code",
   "execution_count": 32,
   "metadata": {},
   "outputs": [
    {
     "name": "stderr",
     "output_type": "stream",
     "text": [
      "100%|██████████| 1073939/1073939 [00:17<00:00, 60866.82it/s]\n"
     ]
    }
   ],
   "source": [
    "df['토지고유번호'] = [str(df['법정동코드'].iloc[i]) + str(df['산'].iloc[i]) + str(int(df['본번'].iloc[i])).zfill(4) + str(int(df['부번'].iloc[i])).zfill(4) for i in tqdm(range(len(df)))]"
   ]
  },
  {
   "cell_type": "code",
   "execution_count": 33,
   "metadata": {},
   "outputs": [
    {
     "name": "stdout",
     "output_type": "stream",
     "text": [
      "<class 'numpy.int64'>\n"
     ]
    },
    {
     "data": {
      "text/plain": [
       "시군구               object\n",
       "번지                object\n",
       "본번                 int64\n",
       "부번                 int64\n",
       "건물명               object\n",
       "전월세구분             object\n",
       "전용면적(㎡)          float64\n",
       "계약년월               int64\n",
       "계약일                int64\n",
       "보증금(만원)           object\n",
       "월세(만원)            object\n",
       "층                float64\n",
       "건축년도             float64\n",
       "도로명               object\n",
       "계약기간              object\n",
       "계약구분              object\n",
       "갱신요구권 사용          object\n",
       "종전계약 보증금 (만원)     object\n",
       "종전계약 월세 (만원)      object\n",
       "법정동코드              int64\n",
       "산                  int64\n",
       "토지고유번호             int64\n",
       "dtype: object"
      ]
     },
     "execution_count": 33,
     "metadata": {},
     "output_type": "execute_result"
    }
   ],
   "source": [
    "df = df.astype({'토지고유번호':'int'})\n",
    "print(type(df['토지고유번호'].iloc[0]))\n",
    "# 데 이터 유 형 이 잘 바 뀌 었습 니다\n",
    "df.dtypes"
   ]
  },
  {
   "cell_type": "code",
   "execution_count": 34,
   "metadata": {},
   "outputs": [
    {
     "data": {
      "text/plain": [
       "202203    13822\n",
       "202202    13714\n",
       "202204    13499\n",
       "202107    13322\n",
       "202201    13226\n",
       "          ...  \n",
       "201309     5436\n",
       "201511     5368\n",
       "201509     5332\n",
       "201311     5147\n",
       "201312     4993\n",
       "Name: 계약년월, Length: 129, dtype: int64"
      ]
     },
     "execution_count": 34,
     "metadata": {},
     "output_type": "execute_result"
    }
   ],
   "source": [
    "df[\"계약년월\"].value_counts()"
   ]
  },
  {
   "cell_type": "code",
   "execution_count": 35,
   "metadata": {},
   "outputs": [],
   "source": [
    "df.to_csv('./data/실거래_가공/연립다세대_실거래_10년_가공.csv', encoding = 'cp949')"
   ]
  }
 ],
 "metadata": {
  "kernelspec": {
   "display_name": "base",
   "language": "python",
   "name": "python3"
  },
  "language_info": {
   "codemirror_mode": {
    "name": "ipython",
    "version": 3
   },
   "file_extension": ".py",
   "mimetype": "text/x-python",
   "name": "python",
   "nbconvert_exporter": "python",
   "pygments_lexer": "ipython3",
   "version": "3.9.10"
  }
 },
 "nbformat": 4,
 "nbformat_minor": 2
}
